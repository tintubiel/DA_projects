{
 "cells": [
  {
   "cell_type": "markdown",
   "metadata": {},
   "source": [
    "# Исследование объявлений о продаже квартир\n",
    "\n",
    "В вашем распоряжении архив объявлений о продаже квартир в Санкт-Петербурге и соседних населённых пунктов за несколько лет. Нужно научиться определять рыночную стоимость объектов недвижимости. Ваша задача — установить параметры. Это позволит построить автоматизированную систему: она отследит аномалии и мошенническую деятельность. \n",
    "\n",
    "По каждой квартире на продажу доступны два вида данных. Первые вписаны пользователем, вторые — получены автоматически на основе картографических данных. Например, расстояние до центра, аэропорта, ближайшего парка и водоёма. "
   ]
  },
  {
   "cell_type": "markdown",
   "metadata": {},
   "source": [
    "<div style=\"border:solid Blue 4px; padding: 40px\">\n",
    "\n",
    "**Цель исследования**\n",
    "* Определение рыночной стоимости недвижимости в зависимости от различных параметров\n",
    "\n",
    "**Ход исследования**\n",
    "\n",
    "О качестве данных ничего не известно. Поэтому перед проверкой гипотез понадобится обзор данных, проверка данных на ошибки и аномалии.\n",
    " \n",
    "Таким образом, исследование пройдёт в три этапа:\n",
    " * Обзор данных.\n",
    " * Предобработка данных.\n",
    " * Проверка гипотез о влиянии параметров на стоимость объектов."
   ]
  },
  {
   "cell_type": "markdown",
   "metadata": {},
   "source": [
    "### Откройте файл с данными и изучите общую информацию. "
   ]
  },
  {
   "cell_type": "code",
   "execution_count": 1,
   "metadata": {
    "scrolled": false
   },
   "outputs": [
    {
     "name": "stdout",
     "output_type": "stream",
     "text": [
      "<class 'pandas.core.frame.DataFrame'>\n",
      "RangeIndex: 23699 entries, 0 to 23698\n",
      "Data columns (total 22 columns):\n",
      " #   Column                Non-Null Count  Dtype  \n",
      "---  ------                --------------  -----  \n",
      " 0   total_images          23699 non-null  int64  \n",
      " 1   last_price            23699 non-null  float64\n",
      " 2   total_area            23699 non-null  float64\n",
      " 3   first_day_exposition  23699 non-null  object \n",
      " 4   rooms                 23699 non-null  int64  \n",
      " 5   ceiling_height        14504 non-null  float64\n",
      " 6   floors_total          23613 non-null  float64\n",
      " 7   living_area           21796 non-null  float64\n",
      " 8   floor                 23699 non-null  int64  \n",
      " 9   is_apartment          2775 non-null   object \n",
      " 10  studio                23699 non-null  bool   \n",
      " 11  open_plan             23699 non-null  bool   \n",
      " 12  kitchen_area          21421 non-null  float64\n",
      " 13  balcony               12180 non-null  float64\n",
      " 14  locality_name         23650 non-null  object \n",
      " 15  airports_nearest      18157 non-null  float64\n",
      " 16  cityCenters_nearest   18180 non-null  float64\n",
      " 17  parks_around3000      18181 non-null  float64\n",
      " 18  parks_nearest         8079 non-null   float64\n",
      " 19  ponds_around3000      18181 non-null  float64\n",
      " 20  ponds_nearest         9110 non-null   float64\n",
      " 21  days_exposition       20518 non-null  float64\n",
      "dtypes: bool(2), float64(14), int64(3), object(3)\n",
      "memory usage: 3.7+ MB\n"
     ]
    },
    {
     "data": {
      "text/html": [
       "<div>\n",
       "<style scoped>\n",
       "    .dataframe tbody tr th:only-of-type {\n",
       "        vertical-align: middle;\n",
       "    }\n",
       "\n",
       "    .dataframe tbody tr th {\n",
       "        vertical-align: top;\n",
       "    }\n",
       "\n",
       "    .dataframe thead th {\n",
       "        text-align: right;\n",
       "    }\n",
       "</style>\n",
       "<table border=\"1\" class=\"dataframe\">\n",
       "  <thead>\n",
       "    <tr style=\"text-align: right;\">\n",
       "      <th></th>\n",
       "      <th>total_images</th>\n",
       "      <th>last_price</th>\n",
       "      <th>total_area</th>\n",
       "      <th>first_day_exposition</th>\n",
       "      <th>rooms</th>\n",
       "      <th>ceiling_height</th>\n",
       "      <th>floors_total</th>\n",
       "      <th>living_area</th>\n",
       "      <th>floor</th>\n",
       "      <th>is_apartment</th>\n",
       "      <th>...</th>\n",
       "      <th>kitchen_area</th>\n",
       "      <th>balcony</th>\n",
       "      <th>locality_name</th>\n",
       "      <th>airports_nearest</th>\n",
       "      <th>cityCenters_nearest</th>\n",
       "      <th>parks_around3000</th>\n",
       "      <th>parks_nearest</th>\n",
       "      <th>ponds_around3000</th>\n",
       "      <th>ponds_nearest</th>\n",
       "      <th>days_exposition</th>\n",
       "    </tr>\n",
       "  </thead>\n",
       "  <tbody>\n",
       "    <tr>\n",
       "      <th>0</th>\n",
       "      <td>20</td>\n",
       "      <td>13000000.0</td>\n",
       "      <td>108.0</td>\n",
       "      <td>2019-03-07T00:00:00</td>\n",
       "      <td>3</td>\n",
       "      <td>2.70</td>\n",
       "      <td>16.0</td>\n",
       "      <td>51.0</td>\n",
       "      <td>8</td>\n",
       "      <td>NaN</td>\n",
       "      <td>...</td>\n",
       "      <td>25.0</td>\n",
       "      <td>NaN</td>\n",
       "      <td>Санкт-Петербург</td>\n",
       "      <td>18863.0</td>\n",
       "      <td>16028.0</td>\n",
       "      <td>1.0</td>\n",
       "      <td>482.0</td>\n",
       "      <td>2.0</td>\n",
       "      <td>755.0</td>\n",
       "      <td>NaN</td>\n",
       "    </tr>\n",
       "    <tr>\n",
       "      <th>1</th>\n",
       "      <td>7</td>\n",
       "      <td>3350000.0</td>\n",
       "      <td>40.4</td>\n",
       "      <td>2018-12-04T00:00:00</td>\n",
       "      <td>1</td>\n",
       "      <td>NaN</td>\n",
       "      <td>11.0</td>\n",
       "      <td>18.6</td>\n",
       "      <td>1</td>\n",
       "      <td>NaN</td>\n",
       "      <td>...</td>\n",
       "      <td>11.0</td>\n",
       "      <td>2.0</td>\n",
       "      <td>посёлок Шушары</td>\n",
       "      <td>12817.0</td>\n",
       "      <td>18603.0</td>\n",
       "      <td>0.0</td>\n",
       "      <td>NaN</td>\n",
       "      <td>0.0</td>\n",
       "      <td>NaN</td>\n",
       "      <td>81.0</td>\n",
       "    </tr>\n",
       "    <tr>\n",
       "      <th>2</th>\n",
       "      <td>10</td>\n",
       "      <td>5196000.0</td>\n",
       "      <td>56.0</td>\n",
       "      <td>2015-08-20T00:00:00</td>\n",
       "      <td>2</td>\n",
       "      <td>NaN</td>\n",
       "      <td>5.0</td>\n",
       "      <td>34.3</td>\n",
       "      <td>4</td>\n",
       "      <td>NaN</td>\n",
       "      <td>...</td>\n",
       "      <td>8.3</td>\n",
       "      <td>0.0</td>\n",
       "      <td>Санкт-Петербург</td>\n",
       "      <td>21741.0</td>\n",
       "      <td>13933.0</td>\n",
       "      <td>1.0</td>\n",
       "      <td>90.0</td>\n",
       "      <td>2.0</td>\n",
       "      <td>574.0</td>\n",
       "      <td>558.0</td>\n",
       "    </tr>\n",
       "    <tr>\n",
       "      <th>3</th>\n",
       "      <td>0</td>\n",
       "      <td>64900000.0</td>\n",
       "      <td>159.0</td>\n",
       "      <td>2015-07-24T00:00:00</td>\n",
       "      <td>3</td>\n",
       "      <td>NaN</td>\n",
       "      <td>14.0</td>\n",
       "      <td>NaN</td>\n",
       "      <td>9</td>\n",
       "      <td>NaN</td>\n",
       "      <td>...</td>\n",
       "      <td>NaN</td>\n",
       "      <td>0.0</td>\n",
       "      <td>Санкт-Петербург</td>\n",
       "      <td>28098.0</td>\n",
       "      <td>6800.0</td>\n",
       "      <td>2.0</td>\n",
       "      <td>84.0</td>\n",
       "      <td>3.0</td>\n",
       "      <td>234.0</td>\n",
       "      <td>424.0</td>\n",
       "    </tr>\n",
       "    <tr>\n",
       "      <th>4</th>\n",
       "      <td>2</td>\n",
       "      <td>10000000.0</td>\n",
       "      <td>100.0</td>\n",
       "      <td>2018-06-19T00:00:00</td>\n",
       "      <td>2</td>\n",
       "      <td>3.03</td>\n",
       "      <td>14.0</td>\n",
       "      <td>32.0</td>\n",
       "      <td>13</td>\n",
       "      <td>NaN</td>\n",
       "      <td>...</td>\n",
       "      <td>41.0</td>\n",
       "      <td>NaN</td>\n",
       "      <td>Санкт-Петербург</td>\n",
       "      <td>31856.0</td>\n",
       "      <td>8098.0</td>\n",
       "      <td>2.0</td>\n",
       "      <td>112.0</td>\n",
       "      <td>1.0</td>\n",
       "      <td>48.0</td>\n",
       "      <td>121.0</td>\n",
       "    </tr>\n",
       "  </tbody>\n",
       "</table>\n",
       "<p>5 rows × 22 columns</p>\n",
       "</div>"
      ],
      "text/plain": [
       "   total_images  last_price  total_area first_day_exposition  rooms  \\\n",
       "0            20  13000000.0       108.0  2019-03-07T00:00:00      3   \n",
       "1             7   3350000.0        40.4  2018-12-04T00:00:00      1   \n",
       "2            10   5196000.0        56.0  2015-08-20T00:00:00      2   \n",
       "3             0  64900000.0       159.0  2015-07-24T00:00:00      3   \n",
       "4             2  10000000.0       100.0  2018-06-19T00:00:00      2   \n",
       "\n",
       "   ceiling_height  floors_total  living_area  floor is_apartment  ...  \\\n",
       "0            2.70          16.0         51.0      8          NaN  ...   \n",
       "1             NaN          11.0         18.6      1          NaN  ...   \n",
       "2             NaN           5.0         34.3      4          NaN  ...   \n",
       "3             NaN          14.0          NaN      9          NaN  ...   \n",
       "4            3.03          14.0         32.0     13          NaN  ...   \n",
       "\n",
       "   kitchen_area  balcony    locality_name  airports_nearest  \\\n",
       "0          25.0      NaN  Санкт-Петербург           18863.0   \n",
       "1          11.0      2.0   посёлок Шушары           12817.0   \n",
       "2           8.3      0.0  Санкт-Петербург           21741.0   \n",
       "3           NaN      0.0  Санкт-Петербург           28098.0   \n",
       "4          41.0      NaN  Санкт-Петербург           31856.0   \n",
       "\n",
       "  cityCenters_nearest  parks_around3000  parks_nearest  ponds_around3000  \\\n",
       "0             16028.0               1.0          482.0               2.0   \n",
       "1             18603.0               0.0            NaN               0.0   \n",
       "2             13933.0               1.0           90.0               2.0   \n",
       "3              6800.0               2.0           84.0               3.0   \n",
       "4              8098.0               2.0          112.0               1.0   \n",
       "\n",
       "   ponds_nearest  days_exposition  \n",
       "0          755.0              NaN  \n",
       "1            NaN             81.0  \n",
       "2          574.0            558.0  \n",
       "3          234.0            424.0  \n",
       "4           48.0            121.0  \n",
       "\n",
       "[5 rows x 22 columns]"
      ]
     },
     "metadata": {},
     "output_type": "display_data"
    },
    {
     "data": {
      "image/png": "[encoded data removed]",
      "text/plain": [
       "<Figure size 1080x1440 with 20 Axes>"
      ]
     },
     "metadata": {
      "needs_background": "light"
     },
     "output_type": "display_data"
    }
   ],
   "source": [
    "import pandas as pd\n",
    "import matplotlib.pyplot as plt\n",
    "try:\n",
    "    data=pd.read_csv('/datasets/real_estate_data.csv', sep='\\t')\n",
    "except:\n",
    "    data = pd.read_csv('real_estate_data.csv',sep='\\t')\n",
    "    \n",
    "data.info()\n",
    "display(data.head())\n",
    "data.hist(figsize=(15, 20))\n",
    "plt.show()"
   ]
  },
  {
   "cell_type": "markdown",
   "metadata": {},
   "source": [
    "### Предобработка данных"
   ]
  },
  {
   "cell_type": "markdown",
   "metadata": {},
   "source": [
    "<div style=\"border:solid Blue 4px; padding: 40px\">\n",
    "\n",
    "**Работа с пропусками**\n",
    "\n",
    "* Определите, в каких столбцах есть пропуски.\n",
    "\n",
    "* Заполните пропущенные значения там, где это возможно. \n",
    "\n",
    "* В ячейке с типом markdown укажите причины, которые могли привести к пропускам в данных.\n"
   ]
  },
  {
   "cell_type": "code",
   "execution_count": 2,
   "metadata": {
    "scrolled": true
   },
   "outputs": [
    {
     "name": "stdout",
     "output_type": "stream",
     "text": [
      "total_images                0\n",
      "last_price                  0\n",
      "total_area                  0\n",
      "first_day_exposition        0\n",
      "rooms                       0\n",
      "ceiling_height           9195\n",
      "floors_total               86\n",
      "living_area              1903\n",
      "floor                       0\n",
      "is_apartment            20924\n",
      "studio                      0\n",
      "open_plan                   0\n",
      "kitchen_area             2278\n",
      "balcony                 11519\n",
      "locality_name              49\n",
      "airports_nearest         5542\n",
      "cityCenters_nearest      5519\n",
      "parks_around3000         5518\n",
      "parks_nearest           15620\n",
      "ponds_around3000         5518\n",
      "ponds_nearest           14589\n",
      "days_exposition          3181\n",
      "dtype: int64\n"
     ]
    }
   ],
   "source": [
    "print(data.isna().sum())\n",
    "#определили категории с пропусками"
   ]
  },
  {
   "cell_type": "code",
   "execution_count": 3,
   "metadata": {},
   "outputs": [
    {
     "name": "stdout",
     "output_type": "stream",
     "text": [
      "total_images                0\n",
      "last_price                  0\n",
      "total_area                  0\n",
      "first_day_exposition        0\n",
      "rooms                       0\n",
      "ceiling_height              0\n",
      "floors_total               86\n",
      "living_area                14\n",
      "floor                       0\n",
      "is_apartment            20924\n",
      "studio                      0\n",
      "open_plan                   0\n",
      "kitchen_area                0\n",
      "balcony                     0\n",
      "locality_name              49\n",
      "airports_nearest         5394\n",
      "cityCenters_nearest      5394\n",
      "parks_around3000         5394\n",
      "parks_nearest           15496\n",
      "ponds_around3000         5394\n",
      "ponds_nearest           14465\n",
      "days_exposition          3181\n",
      "dtype: int64\n"
     ]
    }
   ],
   "source": [
    "#для пропущенных количественных значений заменим медианнными по аналогичным объектам\n",
    "area_median=data.pivot_table(index='rooms',values=['living_area','kitchen_area'],aggfunc=['median'])\n",
    "area_median.columns=['living_area','kitchen_area']\n",
    "\n",
    "for t in data['rooms'].unique():\n",
    "    data.loc[(data['rooms'] == t) & (data['living_area'].isna()),'living_area'] = area_median.loc[area_median.index == t,'living_area'].values[0]\n",
    "    data.loc[(data['rooms'] == t) & (data['kitchen_area'].isna()),'kitchen_area'] = area_median.loc[area_median.index == t,'kitchen_area'].values[0]\n",
    "\n",
    "data.loc[data['ceiling_height'].isna(),'ceiling_height']=data['ceiling_height'].median()\n",
    "\n",
    "#общее количество различных локаций\n",
    "#print(data['locality_name'].value_counts())\n",
    "\n",
    "#посчитали медианные значения там, где это возможно\n",
    "parks_ponds_median=data.pivot_table(index='locality_name',values=['parks_around3000','ponds_around3000','airports_nearest','cityCenters_nearest'],aggfunc=['median'])#,dropna=False) \n",
    "parks_ponds_median.columns=['parks_around3000','ponds_around3000','airports_nearest','cityCenters_nearest']\n",
    "\n",
    "for k in parks_ponds_median.index:\n",
    "    data.loc[(data['locality_name'] == k) & (data['parks_around3000'].isna()),'parks_around3000'] = parks_ponds_median.loc[parks_ponds_median.index == k,'parks_around3000'].values[0]\n",
    "    data.loc[(data['locality_name'] == k) & (data['ponds_around3000'].isna()),'ponds_around3000'] = parks_ponds_median.loc[parks_ponds_median.index == k,'ponds_around3000'].values[0]\n",
    "    data.loc[(data['locality_name'] == k) & (data['airports_nearest'].isna()),'airports_nearest'] = parks_ponds_median.loc[parks_ponds_median.index == k,'airports_nearest'].values[0]\n",
    "    data.loc[(data['locality_name'] == k) & (data['cityCenters_nearest'].isna()),'cityCenters_nearest'] = parks_ponds_median.loc[parks_ponds_median.index == k,'cityCenters_nearest'].values[0]\n",
    "\n",
    "#предполагаем, что если балконы не указаны, то их нет\n",
    "data.loc[data['balcony'].isna(),'balcony']=0\n",
    "\n",
    "#можно было бы предположить, что те данные, где не указано общее число этажей-одноэтажные, но это не так\n",
    "#print(data.loc[data['floors_total'].isna(),'floor'])\n",
    "\n",
    "#если на расстоянии 3км есть парк или пруд, то как максимум ближайший парк или пруд в 3км\n",
    "data.loc[(data['parks_around3000']> 0) & (data['parks_nearest'].isna()),'parks_nearest']=3000\n",
    "data.loc[(data['ponds_around3000']> 0) & (data['ponds_nearest'].isna()),'ponds_nearest']=3000\n",
    "\n",
    "#очень большое количество пропущенных значений, заполнить не получится. \n",
    "#Я бы вообще дропнула этот столбец, т.к. пропущенных значений в нем гораздо больше, чем ценных\n",
    "#print(data['is_apartment'].value_counts(dropna=False))\n",
    "\n",
    "#непонятно, чем именно можно заполнить, оставим как есть\n",
    "#print(data.loc[data['days_exposition'].isna()])\n",
    "\n",
    "#пропуск в категориальном признаке заменим на удобный для работы\n",
    "data.loc[data['locality_name'].isna(),'locality_name'].fillna(value ='uncknown')\n",
    "\n",
    "#print(data['locality_name'].value_counts())\n",
    "\n",
    "#проверяем, что все возможные пропуски заполнились\n",
    "print(data.isna().sum())"
   ]
  },
  {
   "cell_type": "markdown",
   "metadata": {},
   "source": [
    "Итак, причины появления пропусков в значениях имеет смысл искать исходя из того, как именно эти значения получены. В датафрейме есть данные, **добавленные пользователем** и **картографические**. \n",
    "\n",
    "**Добавленные пользователями** скорее всего не были заполнены, т.к. пользователь не ответил на вопрос при заполнении, а для **картографических** возможно была ошибка выгрузки файла или какая-то человеческая ошибка при переносе информации в базу, также, возможно в данные были заведомо неполными, какими их предпочел передать заказчик.\n"
   ]
  },
  {
   "cell_type": "markdown",
   "metadata": {},
   "source": [
    "<div style=\"border:solid Blue 4px; padding: 40px\">\n",
    "    \n",
    "**Изменение типов данных**:\n",
    "\n",
    "* Найдите столбцы, в которых нужно изменить тип данных.\n",
    " \n",
    "* Преобразуйте тип данных в выбранных столбцах.\n",
    "\n",
    "* В ячейке с типом markdown поясните, почему нужно изменить тип данных."
   ]
  },
  {
   "cell_type": "code",
   "execution_count": 4,
   "metadata": {},
   "outputs": [
    {
     "name": "stdout",
     "output_type": "stream",
     "text": [
      "<class 'pandas.core.frame.DataFrame'>\n",
      "RangeIndex: 23699 entries, 0 to 23698\n",
      "Data columns (total 22 columns):\n",
      " #   Column                Non-Null Count  Dtype         \n",
      "---  ------                --------------  -----         \n",
      " 0   total_images          23699 non-null  int64         \n",
      " 1   last_price            23699 non-null  int64         \n",
      " 2   total_area            23699 non-null  float64       \n",
      " 3   first_day_exposition  23699 non-null  datetime64[ns]\n",
      " 4   rooms                 23699 non-null  int64         \n",
      " 5   ceiling_height        23699 non-null  float64       \n",
      " 6   floors_total          23613 non-null  float64       \n",
      " 7   living_area           23685 non-null  float64       \n",
      " 8   floor                 23699 non-null  int64         \n",
      " 9   is_apartment          2775 non-null   object        \n",
      " 10  studio                23699 non-null  bool          \n",
      " 11  open_plan             23699 non-null  bool          \n",
      " 12  kitchen_area          23699 non-null  float64       \n",
      " 13  balcony               23699 non-null  int64         \n",
      " 14  locality_name         23699 non-null  object        \n",
      " 15  airports_nearest      18305 non-null  float64       \n",
      " 16  cityCenters_nearest   18305 non-null  float64       \n",
      " 17  parks_around3000      18305 non-null  float64       \n",
      " 18  parks_nearest         8203 non-null   float64       \n",
      " 19  ponds_around3000      18305 non-null  float64       \n",
      " 20  ponds_nearest         9234 non-null   float64       \n",
      " 21  days_exposition       20518 non-null  float64       \n",
      "dtypes: bool(2), datetime64[ns](1), float64(12), int64(5), object(2)\n",
      "memory usage: 3.7+ MB\n"
     ]
    }
   ],
   "source": [
    "#посмотрим, какие именно типы у каждого признака\n",
    "#data.info()\n",
    "\n",
    "#изменим тип у даты\n",
    "data['first_day_exposition']=pd.to_datetime(data['first_day_exposition'], format='%Y-%m-%dT%H:%M:%S')\n",
    "\n",
    "#для удобства чтения заменим целочисленные данные без пропущенных значений \n",
    "data['balcony']=data['balcony'].astype('int64')\n",
    "data['last_price']=data['last_price'].astype('int64')\n",
    "data['locality_name']=data['locality_name'].astype('str')\n",
    "#проверим,что тип изменился\n",
    "data.info()"
   ]
  },
  {
   "cell_type": "markdown",
   "metadata": {},
   "source": [
    "Тип данных **first_day_exposition** стоило поменять на распарсенный datetime ,т.к. в дальнейшем мы сможем извлечь необходимую информацию о конкретных частях даты, тип данных **balcony** просто удобнее читать, т.к. дробного числа балконов нет. \n",
    "\n",
    "Также можно было бы заменить некоторые другие данные на целочисленные (**floors_total**,**ponds_around3000**, **parks_around3000**),но пропуски не дают нам этого сделать, а **is_apartment** должен по-идее быть булевым, но опять же, пропуски осложняют ситуацию. "
   ]
  },
  {
   "cell_type": "markdown",
   "metadata": {},
   "source": [
    "<div style=\"border:solid Blue 4px; padding: 40px\">\n",
    "    \n",
    "**Работа с неявными дубликатами**\n",
    "\n",
    "* Вы можете заменить названия в существующем столбце или создать новый с названиями без дубликатов."
   ]
  },
  {
   "cell_type": "code",
   "execution_count": 5,
   "metadata": {},
   "outputs": [],
   "source": [
    "#список уникальных значений до обработки дубликатов\n",
    "#print(data['locality_name'].sort_values().unique())\n",
    "\n",
    "\n",
    "posyolki=[]\n",
    "for x in data['locality_name'].unique():\n",
    "    if (\"городс\" in x):\n",
    "        if ('городского типа' not in x):\n",
    "            data.loc[data['locality_name']==x,'locality_name']='посёлок городского типа'+x[17:]\n",
    "            posyolki.append(x[17:])\n",
    "        else:\n",
    "            data.loc[data['locality_name']==x,'locality_name']='посёлок городского типа'+x[23:]\n",
    "            posyolki.append(x[23:])\n",
    "    elif (\"пос\" in x and \"гор\" not in x and \"дач\" not in x and \"котт\" not in x):\n",
    "        data.loc[data['locality_name']==x,'locality_name']='посёлок'+x[7:]\n",
    "\n",
    "for y in data['locality_name'].unique():\n",
    "    if ((\"посёлок\" in y[:7]) and (y[7:] in  posyolki)):\n",
    "        data.loc[data['locality_name']==y,'locality_name']='посёлок городского типа'+y[7:]\n",
    "\n",
    "#список уникальных значений после обработки дубликатов        \n",
    "#print(data['locality_name'].sort_values().unique())            \n",
    "\n",
    "#Думала, как сделать алгоритм получше, но в один цикл что-то у меня не вышло. Если есть какие-то фишки, было бы круто узнать)"
   ]
  },
  {
   "cell_type": "markdown",
   "metadata": {},
   "source": [
    "<div style=\"border:solid Blue 4px; padding: 40px\">\n",
    "    \n",
    "**Работа с выбросами и аномалиями**\n",
    "\n",
    "* Если природа аномалии понятна и данные действительно искажены, то восстановите корректное значение.\n",
    "* В противном случае удалите редкие и выбивающиеся значения.\n",
    "* В ячейке с типом markdown опишите, какие особенности в данных вы обнаружили."
   ]
  },
  {
   "cell_type": "code",
   "execution_count": 6,
   "metadata": {
    "scrolled": true
   },
   "outputs": [],
   "source": [
    "import matplotlib.pyplot as plt\n",
    "\n",
    "#plt.ylim(2, 10)\n",
    "#data.boxplot(column='ceiling_height')\n",
    "#смотрим, какие значения аномальны для ceiling_height\n",
    "#print(data.query('ceiling_height>10 or ceiling_height<2')['ceiling_height'].value_counts().sort_values())\n",
    "\n",
    "for x in data.query('ceiling_height>6 or ceiling_height<2')['ceiling_height']:\n",
    "    if (x>20 and x<90):\n",
    "        data.loc[data['ceiling_height']==x,'ceiling_height']=x/10\n",
    "    else:\n",
    "        data = data.loc[data['ceiling_height']!=x]\n",
    "        \n",
    "#смотрим, что аномальных больше нет    \n",
    "#print(data.query('ceiling_height>10')['ceiling_height'].value_counts().sort_values())\n",
    "\n",
    "#смотрим, какие значения аномальны для last_price\n",
    "#plt.ylim(0, 100)\n",
    "#data['last_price'].hist(bins=10)\n",
    "#print(data['last_price'].max())\n",
    "#выбивающееся значение все-таки имеет высокую стоимость оправдано\n",
    "\n",
    "#смотрим, какие значения аномальны для total_area\n",
    "#plt.ylim(0, 200)\n",
    "#data['total_area'].hist(bins=10)\n",
    "#опять же все выглядит логично\n",
    "\n",
    "#смотрим, какие значения аномальны для living_area\n",
    "# plt.ylim(0, 40)\n",
    "# data['living_area'].hist(bins=50)\n",
    "\n",
    "#смотрим, какие значения аномальны для rooms\n",
    "#plt.ylim(0, 1000)\n",
    "#data['rooms'].hist()\n",
    "\n",
    "#смотрим, какие значения аномальны для total_area\n",
    "# plt.ylim(0, 60)\n",
    "# data['total_area'].hist(bins=50)\n",
    "# print(data['total_area'].sort_values().unique())\n",
    "#нет аномальных\n",
    "\n",
    "#смотрим, какие значения аномальны для airports_nearest\n",
    "# data['airports_nearest'].hist(bins=50)\n",
    "# print(data['airports_nearest'].sort_values().unique())\n",
    "#т.к. в зоне аэропортов запрещена застройка\n",
    "data=data.loc[data['airports_nearest']>2]\n",
    "\n"
   ]
  },
  {
   "cell_type": "code",
   "execution_count": 7,
   "metadata": {
    "scrolled": false
   },
   "outputs": [
    {
     "data": {
      "image/png": "[encoded data removed]",
      "text/plain": [
       "<Figure size 864x720 with 4 Axes>"
      ]
     },
     "metadata": {
      "needs_background": "light"
     },
     "output_type": "display_data"
    },
    {
     "data": {
      "image/png": "[encoded data removed]",
      "text/plain": [
       "<Figure size 864x720 with 4 Axes>"
      ]
     },
     "metadata": {
      "needs_background": "light"
     },
     "output_type": "display_data"
    },
    {
     "data": {
      "image/png": "[encoded data removed]",
      "text/plain": [
       "<Figure size 864x720 with 4 Axes>"
      ]
     },
     "metadata": {
      "needs_background": "light"
     },
     "output_type": "display_data"
    }
   ],
   "source": [
    "fig1, axs1 = plt.subplots(2, 2)\n",
    "fig1.set_figwidth(12)   \n",
    "fig1.set_figheight(10)\n",
    "\n",
    "data.boxplot('ceiling_height',ax=axs1[0][0])\n",
    "axs1[0][0].set_title('ceiling_height')\n",
    "axs1[0][0].set_ylim(0,15)\n",
    "\n",
    "data.boxplot('last_price',ax=axs1[0][1])\n",
    "axs1[0][1].set_title('last_price')\n",
    "axs1[0][1].set_ylim(0,1.25*10**8)\n",
    "\n",
    "data.boxplot('total_area',ax=axs1[1][0])\n",
    "axs1[1][0].set_title('total_area')\n",
    "\n",
    "data.boxplot('living_area',ax=axs1[1][1])\n",
    "axs1[1][1].set_title('living_area')\n",
    "\n",
    "\n",
    "\n",
    "fig2, axs2 = plt.subplots(2, 2)\n",
    "fig2.set_figwidth(12)   \n",
    "fig2.set_figheight(10)\n",
    "\n",
    "data.boxplot('kitchen_area',ax=axs2[0][0])\n",
    "axs2[0][0].set_title('kitchen_area')\n",
    "#axs2[0][0].set_ylim(0,15)\n",
    "\n",
    "data.boxplot('balcony',ax=axs2[0][1])\n",
    "axs2[0][1].set_title('balcony')\n",
    "#axs2[0][1].set_ylim(0,1.25*10**8)\n",
    "\n",
    "data.boxplot('floors_total',ax=axs2[1][0])\n",
    "axs2[1][0].set_title('floors_total')\n",
    "\n",
    "data.boxplot('floor',ax=axs2[1][1])\n",
    "axs2[1][1].set_title('floor')\n",
    "\n",
    "\n",
    "fig3, axs3 = plt.subplots(2, 2)\n",
    "fig3.set_figwidth(12)   \n",
    "fig3.set_figheight(10)\n",
    "\n",
    "data.boxplot('airports_nearest',ax=axs3[0][0])\n",
    "axs3[0][0].set_title('airports_nearest')\n",
    "\n",
    "data.boxplot('cityCenters_nearest',ax=axs3[0][1])\n",
    "axs3[0][1].set_title('cityCenters_nearest')\n",
    "#axs2[0][1].set_ylim(0,1.25*10**8)\n",
    "\n",
    "data.boxplot('parks_nearest',ax=axs3[1][0])\n",
    "axs3[1][0].set_title('parks_nearest')\n",
    "\n",
    "data.boxplot('ponds_nearest',ax=axs3[1][1])\n",
    "axs3[1][1].set_title('ponds_nearest')\n",
    "\n",
    "plt.show()\n",
    "\n",
    "#data.info()"
   ]
  },
  {
   "cell_type": "code",
   "execution_count": 8,
   "metadata": {},
   "outputs": [
    {
     "name": "stdout",
     "output_type": "stream",
     "text": [
      "0\n"
     ]
    }
   ],
   "source": [
    "print(data.duplicated().sum())\n",
    "#data = data.drop_duplicates()"
   ]
  },
  {
   "cell_type": "markdown",
   "metadata": {},
   "source": [
    "### Посчитайте и добавьте в таблицу новые столбцы"
   ]
  },
  {
   "cell_type": "markdown",
   "metadata": {},
   "source": [
    "<div style=\"border:solid Blue 4px; padding: 40px\">\n",
    "\n",
    "**Добавьте в таблицу новые столбцы со следующими параметрами:**\n",
    "\n",
    "* цена одного квадратного метра;\n",
    "* день недели публикации объявления (0 — понедельник, 1 — вторник и так далее);\n",
    "* месяц публикации объявления;\n",
    "* год публикации объявления;\n",
    "* тип этажа квартиры (значения — «‎первый», «последний», «другой»);\n",
    "* расстояние до центра города в километрах (переведите из м в км и округлите до целых значений)."
   ]
  },
  {
   "cell_type": "code",
   "execution_count": 9,
   "metadata": {},
   "outputs": [
    {
     "name": "stdout",
     "output_type": "stream",
     "text": [
      "<class 'pandas.core.frame.DataFrame'>\n",
      "Int64Index: 18147 entries, 0 to 23697\n",
      "Data columns (total 22 columns):\n",
      " #   Column                Non-Null Count  Dtype         \n",
      "---  ------                --------------  -----         \n",
      " 0   total_images          18147 non-null  int64         \n",
      " 1   last_price            18147 non-null  int64         \n",
      " 2   total_area            18147 non-null  float64       \n",
      " 3   first_day_exposition  18147 non-null  datetime64[ns]\n",
      " 4   rooms                 18147 non-null  int64         \n",
      " 5   ceiling_height        18147 non-null  float64       \n",
      " 6   floors_total          18071 non-null  float64       \n",
      " 7   living_area           18139 non-null  float64       \n",
      " 8   floor                 18147 non-null  int64         \n",
      " 9   is_apartment          2143 non-null   object        \n",
      " 10  studio                18147 non-null  bool          \n",
      " 11  open_plan             18147 non-null  bool          \n",
      " 12  kitchen_area          18147 non-null  float64       \n",
      " 13  balcony               18147 non-null  int64         \n",
      " 14  locality_name         18147 non-null  object        \n",
      " 15  airports_nearest      18147 non-null  float64       \n",
      " 16  cityCenters_nearest   18147 non-null  float64       \n",
      " 17  parks_around3000      18147 non-null  float64       \n",
      " 18  parks_nearest         8054 non-null   float64       \n",
      " 19  ponds_around3000      18147 non-null  float64       \n",
      " 20  ponds_nearest         9097 non-null   float64       \n",
      " 21  days_exposition       15834 non-null  float64       \n",
      "dtypes: bool(2), datetime64[ns](1), float64(12), int64(5), object(2)\n",
      "memory usage: 2.9+ MB\n"
     ]
    },
    {
     "data": {
      "text/html": [
       "<div>\n",
       "<style scoped>\n",
       "    .dataframe tbody tr th:only-of-type {\n",
       "        vertical-align: middle;\n",
       "    }\n",
       "\n",
       "    .dataframe tbody tr th {\n",
       "        vertical-align: top;\n",
       "    }\n",
       "\n",
       "    .dataframe thead th {\n",
       "        text-align: right;\n",
       "    }\n",
       "</style>\n",
       "<table border=\"1\" class=\"dataframe\">\n",
       "  <thead>\n",
       "    <tr style=\"text-align: right;\">\n",
       "      <th></th>\n",
       "      <th>total_images</th>\n",
       "      <th>last_price</th>\n",
       "      <th>total_area</th>\n",
       "      <th>first_day_exposition</th>\n",
       "      <th>rooms</th>\n",
       "      <th>ceiling_height</th>\n",
       "      <th>floors_total</th>\n",
       "      <th>living_area</th>\n",
       "      <th>floor</th>\n",
       "      <th>is_apartment</th>\n",
       "      <th>...</th>\n",
       "      <th>parks_nearest</th>\n",
       "      <th>ponds_around3000</th>\n",
       "      <th>ponds_nearest</th>\n",
       "      <th>days_exposition</th>\n",
       "      <th>price_per_square_meter</th>\n",
       "      <th>type_of_day</th>\n",
       "      <th>month_of_exposition</th>\n",
       "      <th>year_of_exposition</th>\n",
       "      <th>type_of_floor</th>\n",
       "      <th>city_center_km</th>\n",
       "    </tr>\n",
       "  </thead>\n",
       "  <tbody>\n",
       "    <tr>\n",
       "      <th>0</th>\n",
       "      <td>20</td>\n",
       "      <td>13000000</td>\n",
       "      <td>108.0</td>\n",
       "      <td>2019-03-07</td>\n",
       "      <td>3</td>\n",
       "      <td>2.70</td>\n",
       "      <td>16.0</td>\n",
       "      <td>51.0</td>\n",
       "      <td>8</td>\n",
       "      <td>NaN</td>\n",
       "      <td>...</td>\n",
       "      <td>482.0</td>\n",
       "      <td>2.0</td>\n",
       "      <td>755.0</td>\n",
       "      <td>NaN</td>\n",
       "      <td>120370.4</td>\n",
       "      <td>3</td>\n",
       "      <td>3</td>\n",
       "      <td>2019</td>\n",
       "      <td>другой</td>\n",
       "      <td>16.0</td>\n",
       "    </tr>\n",
       "    <tr>\n",
       "      <th>1</th>\n",
       "      <td>7</td>\n",
       "      <td>3350000</td>\n",
       "      <td>40.4</td>\n",
       "      <td>2018-12-04</td>\n",
       "      <td>1</td>\n",
       "      <td>2.65</td>\n",
       "      <td>11.0</td>\n",
       "      <td>18.6</td>\n",
       "      <td>1</td>\n",
       "      <td>NaN</td>\n",
       "      <td>...</td>\n",
       "      <td>NaN</td>\n",
       "      <td>0.0</td>\n",
       "      <td>NaN</td>\n",
       "      <td>81.0</td>\n",
       "      <td>82920.8</td>\n",
       "      <td>1</td>\n",
       "      <td>12</td>\n",
       "      <td>2018</td>\n",
       "      <td>первый</td>\n",
       "      <td>19.0</td>\n",
       "    </tr>\n",
       "    <tr>\n",
       "      <th>2</th>\n",
       "      <td>10</td>\n",
       "      <td>5196000</td>\n",
       "      <td>56.0</td>\n",
       "      <td>2015-08-20</td>\n",
       "      <td>2</td>\n",
       "      <td>2.65</td>\n",
       "      <td>5.0</td>\n",
       "      <td>34.3</td>\n",
       "      <td>4</td>\n",
       "      <td>NaN</td>\n",
       "      <td>...</td>\n",
       "      <td>90.0</td>\n",
       "      <td>2.0</td>\n",
       "      <td>574.0</td>\n",
       "      <td>558.0</td>\n",
       "      <td>92785.7</td>\n",
       "      <td>3</td>\n",
       "      <td>8</td>\n",
       "      <td>2015</td>\n",
       "      <td>другой</td>\n",
       "      <td>14.0</td>\n",
       "    </tr>\n",
       "    <tr>\n",
       "      <th>3</th>\n",
       "      <td>0</td>\n",
       "      <td>64900000</td>\n",
       "      <td>159.0</td>\n",
       "      <td>2015-07-24</td>\n",
       "      <td>3</td>\n",
       "      <td>2.65</td>\n",
       "      <td>14.0</td>\n",
       "      <td>9.5</td>\n",
       "      <td>9</td>\n",
       "      <td>NaN</td>\n",
       "      <td>...</td>\n",
       "      <td>84.0</td>\n",
       "      <td>3.0</td>\n",
       "      <td>234.0</td>\n",
       "      <td>424.0</td>\n",
       "      <td>408176.1</td>\n",
       "      <td>4</td>\n",
       "      <td>7</td>\n",
       "      <td>2015</td>\n",
       "      <td>другой</td>\n",
       "      <td>7.0</td>\n",
       "    </tr>\n",
       "    <tr>\n",
       "      <th>4</th>\n",
       "      <td>2</td>\n",
       "      <td>10000000</td>\n",
       "      <td>100.0</td>\n",
       "      <td>2018-06-19</td>\n",
       "      <td>2</td>\n",
       "      <td>3.03</td>\n",
       "      <td>14.0</td>\n",
       "      <td>32.0</td>\n",
       "      <td>13</td>\n",
       "      <td>NaN</td>\n",
       "      <td>...</td>\n",
       "      <td>112.0</td>\n",
       "      <td>1.0</td>\n",
       "      <td>48.0</td>\n",
       "      <td>121.0</td>\n",
       "      <td>100000.0</td>\n",
       "      <td>1</td>\n",
       "      <td>6</td>\n",
       "      <td>2018</td>\n",
       "      <td>другой</td>\n",
       "      <td>8.0</td>\n",
       "    </tr>\n",
       "  </tbody>\n",
       "</table>\n",
       "<p>5 rows × 28 columns</p>\n",
       "</div>"
      ],
      "text/plain": [
       "   total_images  last_price  total_area first_day_exposition  rooms  \\\n",
       "0            20    13000000       108.0           2019-03-07      3   \n",
       "1             7     3350000        40.4           2018-12-04      1   \n",
       "2            10     5196000        56.0           2015-08-20      2   \n",
       "3             0    64900000       159.0           2015-07-24      3   \n",
       "4             2    10000000       100.0           2018-06-19      2   \n",
       "\n",
       "   ceiling_height  floors_total  living_area  floor is_apartment  ...  \\\n",
       "0            2.70          16.0         51.0      8          NaN  ...   \n",
       "1            2.65          11.0         18.6      1          NaN  ...   \n",
       "2            2.65           5.0         34.3      4          NaN  ...   \n",
       "3            2.65          14.0          9.5      9          NaN  ...   \n",
       "4            3.03          14.0         32.0     13          NaN  ...   \n",
       "\n",
       "   parks_nearest  ponds_around3000  ponds_nearest  days_exposition  \\\n",
       "0          482.0               2.0          755.0              NaN   \n",
       "1            NaN               0.0            NaN             81.0   \n",
       "2           90.0               2.0          574.0            558.0   \n",
       "3           84.0               3.0          234.0            424.0   \n",
       "4          112.0               1.0           48.0            121.0   \n",
       "\n",
       "  price_per_square_meter  type_of_day  month_of_exposition  \\\n",
       "0               120370.4            3                    3   \n",
       "1                82920.8            1                   12   \n",
       "2                92785.7            3                    8   \n",
       "3               408176.1            4                    7   \n",
       "4               100000.0            1                    6   \n",
       "\n",
       "   year_of_exposition  type_of_floor  city_center_km  \n",
       "0                2019         другой            16.0  \n",
       "1                2018         первый            19.0  \n",
       "2                2015         другой            14.0  \n",
       "3                2015         другой             7.0  \n",
       "4                2018         другой             8.0  \n",
       "\n",
       "[5 rows x 28 columns]"
      ]
     },
     "execution_count": 9,
     "metadata": {},
     "output_type": "execute_result"
    }
   ],
   "source": [
    "data.info()\n",
    "import numpy as np\n",
    "\n",
    "data['price_per_square_meter']=np.round(data['last_price']/data['total_area'],1)\n",
    "\n",
    "def days_categorize(date):\n",
    "    try:\n",
    "        return date.dayofweek\n",
    "    except:\n",
    "        pass\n",
    "    \n",
    "data['type_of_day'] = data['first_day_exposition'].apply(days_categorize)\n",
    "\n",
    "data['month_of_exposition'] = pd.DatetimeIndex(data['first_day_exposition']).month \n",
    "data['year_of_exposition'] = pd.DatetimeIndex(data['first_day_exposition']).year \n",
    "\n",
    "       \n",
    "def floor_categorize(floors):\n",
    "    try:\n",
    "        #print(floors['floor'])\n",
    "        if (floors['floor']==1):\n",
    "            return ('первый')\n",
    "        elif (floors['floor']==floors['floors_total']):\n",
    "            return ('последний')\n",
    "        else:\n",
    "            return ('другой')\n",
    "    except:\n",
    "        pass\n",
    "    \n",
    "data['type_of_floor'] = data.loc[:,['floor','floors_total']].apply(floor_categorize,axis=1)\n",
    "\n",
    "data['city_center_km']=np.round(data['cityCenters_nearest']/1000) \n",
    "\n",
    "data.head()"
   ]
  },
  {
   "cell_type": "markdown",
   "metadata": {},
   "source": [
    "### Проведите исследовательский анализ данных"
   ]
  },
  {
   "cell_type": "markdown",
   "metadata": {},
   "source": [
    "<div style=\"border:solid Blue 4px; padding: 40px\">\n",
    "\n",
    "\n",
    "**Изучить и описать следующие параметры:**\n",
    "  - общая площадь;\n",
    "  - жилая площадь;\n",
    "  - площадь кухни;\n",
    "  - цена объекта;\n",
    "  - количество комнат;\n",
    "  - высота потолков;\n",
    "  - этаж квартиры;\n",
    "  - тип этажа квартиры («первый», «последний», «другой»);\n",
    "  - общее количество этажей в доме;\n",
    "  - расстояние до центра города в метрах;\n",
    "  - расстояние до ближайшего аэропорта;\n",
    "  - расстояние до ближайшего парка;\n",
    "  - день и месяц публикации объявления"
   ]
  },
  {
   "cell_type": "code",
   "execution_count": 10,
   "metadata": {},
   "outputs": [
    {
     "name": "stdout",
     "output_type": "stream",
     "text": [
      "total_area\n",
      "count    18147.000000\n",
      "mean        63.301404\n",
      "std         38.494776\n",
      "min         12.000000\n",
      "25%         41.200000\n",
      "50%         54.000000\n",
      "75%         73.000000\n",
      "max        900.000000\n",
      "Name: total_area, dtype: float64 \n",
      "\n",
      "living_area\n",
      "count    18139.000000\n",
      "mean        34.209245\n",
      "std         23.726058\n",
      "min          2.000000\n",
      "25%         18.000000\n",
      "50%         30.000000\n",
      "75%         42.800000\n",
      "max        409.700000\n",
      "Name: living_area, dtype: float64 \n",
      "\n",
      "kitchen_area\n",
      "count    18147.000000\n",
      "mean        12.794476\n",
      "std         10.386890\n",
      "min          1.300000\n",
      "25%          7.400000\n",
      "50%         10.000000\n",
      "75%         14.000000\n",
      "max        179.200000\n",
      "Name: kitchen_area, dtype: float64 \n",
      "\n"
     ]
    },
    {
     "data": {
      "image/png": "[encoded data removed]",
      "text/plain": [
       "<Figure size 1152x504 with 3 Axes>"
      ]
     },
     "metadata": {
      "needs_background": "light"
     },
     "output_type": "display_data"
    }
   ],
   "source": [
    "\n",
    "fig, axs = plt.subplots(1, 3)\n",
    "fig.set_figwidth(16)   \n",
    "fig.set_figheight(7)   \n",
    "\n",
    "axs[0].hist(data['total_area'], bins=150,range=(0,150))#,range=(data['total_area'].min(), data['total_area'].max()))\n",
    "axs[0].set_title('total_area')\n",
    "axs[0].set_ylabel('count')\n",
    "axs[0].set_xlabel('square meters')\n",
    "#axs[0].set_xlim(0, 400)\n",
    "axs[0].grid()\n",
    "\n",
    "\n",
    "axs[1].hist(data['living_area'], bins=100,color='cyan',range=(0,100))\n",
    "axs[1].set_title('living_area')\n",
    "axs[1].set_ylabel('count')\n",
    "axs[1].set_xlabel('square meters')\n",
    "#axs[1].set_xlim(0, 280)\n",
    "axs[1].grid()\n",
    "\n",
    "axs[2].hist(data['kitchen_area'], bins=30,color='pink',range=(0,30))\n",
    "axs[2].set_title('kitchen_area')\n",
    "axs[2].set_ylabel('count')\n",
    "axs[2].set_xlabel('square meters')\n",
    "#axs[2].set_xlim(0, 150)\n",
    "axs[2].grid()\n",
    "\n",
    "for x in ['total_area','living_area','kitchen_area']:\n",
    "    print(x)\n",
    "    #print('min = ',data[x].min(),', max = ',data[x].max(),', median = ',data[x].median(),',mean = ',data[x].mean(),'\\n')\n",
    "    print(data[x].describe(),'\\n')"
   ]
  },
  {
   "cell_type": "markdown",
   "metadata": {},
   "source": [
    "Общая площадь, жилая площадь и площадь кухни - количественные переменные, распределение которых скошено вправо. Самый болльшой разброс величин наблюдается у общей площади, а самый маленький у площади кухни. "
   ]
  },
  {
   "cell_type": "code",
   "execution_count": 11,
   "metadata": {},
   "outputs": [
    {
     "name": "stdout",
     "output_type": "stream",
     "text": [
      "last_price\n",
      "count    1.814700e+04\n",
      "mean     7.558667e+06\n",
      "std      1.211578e+07\n",
      "min      1.219000e+04\n",
      "25%      4.000000e+06\n",
      "50%      5.250000e+06\n",
      "75%      7.680000e+06\n",
      "max      7.630000e+08\n",
      "Name: last_price, dtype: float64 \n",
      "\n",
      "rooms\n",
      "count    18147.000000\n",
      "mean         2.139252\n",
      "std          1.122575\n",
      "min          0.000000\n",
      "25%          1.000000\n",
      "50%          2.000000\n",
      "75%          3.000000\n",
      "max         19.000000\n",
      "Name: rooms, dtype: float64 \n",
      "\n",
      "ceiling_height\n",
      "count    18147.000000\n",
      "mean         2.712955\n",
      "std          0.237864\n",
      "min          2.000000\n",
      "25%          2.600000\n",
      "50%          2.650000\n",
      "75%          2.720000\n",
      "max          6.000000\n",
      "Name: ceiling_height, dtype: float64 \n",
      "\n"
     ]
    },
    {
     "data": {
      "image/png": "[encoded data removed]",
      "text/plain": [
       "<Figure size 1152x504 with 3 Axes>"
      ]
     },
     "metadata": {
      "needs_background": "light"
     },
     "output_type": "display_data"
    }
   ],
   "source": [
    "fig, axs = plt.subplots(1, 3)\n",
    "fig.set_figwidth(16)   \n",
    "fig.set_figheight(7)   \n",
    "\n",
    "axs[0].hist(data['last_price'], bins=100)\n",
    "axs[0].set_title('last_price')\n",
    "axs[0].set_ylabel('count')\n",
    "axs[0].set_xlabel('rubles')\n",
    "axs[0].set_xlim(0, 10**8)\n",
    "axs[0].grid()\n",
    "\n",
    "\n",
    "axs[1].hist(data['rooms'], bins=50,color='pink')\n",
    "axs[1].set_title('rooms')\n",
    "axs[1].set_ylabel('count')\n",
    "axs[1].set_xlabel('count of rooms')\n",
    "axs[1].set_xlim(0, 12)\n",
    "axs[1].grid()\n",
    "\n",
    "axs[2].hist(data['ceiling_height'], bins=50,color='cyan')\n",
    "axs[2].set_title('ceiling_height')\n",
    "axs[2].set_ylabel('count')\n",
    "axs[2].set_xlabel('meters')\n",
    "axs[2].set_xlim(2, 6)\n",
    "axs[2].grid()\n",
    "\n",
    "\n",
    "for x in ['last_price','rooms','ceiling_height']:\n",
    "    print(x)\n",
    "    #print('min = ',data[x].min(),', max = ',data[x].max(),', median = ',data[x].median(),'\\n')\n",
    "    print(data[x].describe(),'\\n')\n",
    " "
   ]
  },
  {
   "cell_type": "markdown",
   "metadata": {},
   "source": [
    "Последняя цена и высота потолков-количественные переменные, а количество комнат-качественная переменная. Наибольший разброс среди этих величин у цены, наименьший у высоты потолков."
   ]
  },
  {
   "cell_type": "code",
   "execution_count": 12,
   "metadata": {},
   "outputs": [
    {
     "name": "stdout",
     "output_type": "stream",
     "text": [
      "floor\n",
      "count    18147.000000\n",
      "mean         6.134182\n",
      "std          4.948853\n",
      "min          1.000000\n",
      "25%          3.000000\n",
      "50%          5.000000\n",
      "75%          8.000000\n",
      "max         33.000000\n",
      "Name: floor, dtype: float64 \n",
      "\n",
      "floors_total\n",
      "count    18071.000000\n",
      "mean        11.166731\n",
      "std          6.539018\n",
      "min          1.000000\n",
      "25%          5.000000\n",
      "50%          9.000000\n",
      "75%         16.000000\n",
      "max         60.000000\n",
      "Name: floors_total, dtype: float64 \n",
      "\n",
      "type_of_floor\n",
      "на первом этаже:  1996 , на последнем этаже:  2326 , на других этажах:  13825 \n",
      "\n"
     ]
    },
    {
     "data": {
      "image/png": "[encoded data removed]",
      "text/plain": [
       "<Figure size 1152x504 with 3 Axes>"
      ]
     },
     "metadata": {
      "needs_background": "light"
     },
     "output_type": "display_data"
    }
   ],
   "source": [
    "\n",
    "\n",
    "fig, axs = plt.subplots(1, 3)\n",
    "fig.set_figwidth(16)   \n",
    "fig.set_figheight(7)   \n",
    "\n",
    "axs[0].hist(data['floor'], bins=50)\n",
    "axs[0].set_title('floor')\n",
    "axs[0].set_ylabel('count')\n",
    "axs[0].set_xlabel('num of floor')\n",
    "axs[0].set_xlim(0, 30)\n",
    "axs[0].grid()\n",
    "\n",
    "\n",
    "axs[1].hist(data['type_of_floor'], bins=50,color='cyan')\n",
    "axs[1].set_title('type_of_floor')\n",
    "axs[1].set_ylabel('count')\n",
    "axs[1].set_xlabel('type of floor')\n",
    "axs[1].grid()\n",
    "\n",
    "axs[2].hist(data['floors_total'], bins=50,color='pink')\n",
    "axs[2].set_title('floors_total')\n",
    "axs[2].set_ylabel('count')\n",
    "axs[2].set_xlabel('floors_total')\n",
    "axs[2].set_xlim(0, 40)\n",
    "axs[2].grid()\n",
    "\n",
    "\n",
    "\n",
    "for x in ['floor','floors_total']:\n",
    "    print(x)\n",
    "    #print('min = ',data[x].min(),', max = ',data[x].max(),', median = ',data[x].median(),'\\n')\n",
    "    print(data[x].describe(),'\\n')\n",
    "\n",
    "print('type_of_floor')\n",
    "print('на первом этаже: ',data.loc[data['type_of_floor']=='первый','type_of_floor'].count(),', на последнем этаже: ',\n",
    "      data.loc[data['type_of_floor']=='последний','type_of_floor'].count(),', на других этажах: ',\n",
    "      data.loc[data['type_of_floor']=='другой','type_of_floor'].count(),'\\n')\n"
   ]
  },
  {
   "cell_type": "markdown",
   "metadata": {},
   "source": [
    "Все три переменных - качественные. Наибольшее стандартное отклонение у общего количества этажей в доме."
   ]
  },
  {
   "cell_type": "code",
   "execution_count": 13,
   "metadata": {},
   "outputs": [
    {
     "name": "stdout",
     "output_type": "stream",
     "text": [
      "cityCenters_nearest\n",
      "count    18147.000000\n",
      "mean     14194.449386\n",
      "std       8613.617451\n",
      "min          0.000000\n",
      "25%       9234.000000\n",
      "50%      13101.000000\n",
      "75%      16294.000000\n",
      "max      65968.000000\n",
      "Name: cityCenters_nearest, dtype: float64 \n",
      "\n",
      "airports_nearest\n",
      "count    18147.000000\n",
      "mean     28797.161955\n",
      "std      12630.706406\n",
      "min       6450.000000\n",
      "25%      18585.000000\n",
      "50%      26726.000000\n",
      "75%      37280.500000\n",
      "max      84869.000000\n",
      "Name: airports_nearest, dtype: float64 \n",
      "\n",
      "parks_nearest\n",
      "count    8054.000000\n",
      "mean      490.818599\n",
      "std       342.550148\n",
      "min         1.000000\n",
      "25%       288.000000\n",
      "50%       454.000000\n",
      "75%       612.000000\n",
      "max      3190.000000\n",
      "Name: parks_nearest, dtype: float64 \n",
      "\n"
     ]
    },
    {
     "data": {
      "image/png": "[encoded data removed]",
      "text/plain": [
       "<Figure size 1440x504 with 3 Axes>"
      ]
     },
     "metadata": {
      "needs_background": "light"
     },
     "output_type": "display_data"
    }
   ],
   "source": [
    "\n",
    "fig, axs = plt.subplots(1, 3)\n",
    "fig.set_figwidth(20)   \n",
    "fig.set_figheight(7)   \n",
    "\n",
    "axs[0].hist(data['cityCenters_nearest'], bins=100, range=(0,4000))\n",
    "axs[0].set_title('cityCenters_nearest')\n",
    "axs[0].set_ylabel('count')\n",
    "axs[0].set_xlabel('meters')\n",
    "axs[0].grid()\n",
    "\n",
    "\n",
    "axs[1].hist(data['airports_nearest'], bins=100,color='cyan',range=(0,60000))\n",
    "axs[1].set_title('airports_nearest')\n",
    "axs[1].set_ylabel('count')\n",
    "axs[1].set_xlabel('meters')\n",
    "axs[1].grid()\n",
    "\n",
    "axs[2].hist(data['parks_nearest'], bins=100,color='pink',range=(0,1000))\n",
    "axs[2].set_title('parks_nearest')\n",
    "axs[2].set_ylabel('count')\n",
    "axs[2].set_xlabel('meters')\n",
    "axs[2].grid()\n",
    "\n",
    "\n",
    "for x in ['cityCenters_nearest','airports_nearest','parks_nearest']:\n",
    "    print(x)\n",
    "    #print('min = ',data[x].min(),', max = ',data[x].max(),', median = ',data[x].median(),'\\n')\n",
    "    print(data[x].describe(),'\\n')"
   ]
  },
  {
   "cell_type": "markdown",
   "metadata": {},
   "source": [
    "Все три переменные количественные. Наибольший разброс у airports_nearest, наименьший у parks_nearest"
   ]
  },
  {
   "cell_type": "code",
   "execution_count": 14,
   "metadata": {},
   "outputs": [
    {
     "name": "stdout",
     "output_type": "stream",
     "text": [
      "type_of_day\n",
      "3    3296\n",
      "1    3231\n",
      "4    3087\n",
      "2    3048\n",
      "0    2752\n",
      "5    1443\n",
      "6    1290\n",
      "Name: type_of_day, dtype: int64 \n",
      "\n",
      "month_of_exposition\n",
      "2     2019\n",
      "3     1933\n",
      "11    1844\n",
      "4     1840\n",
      "10    1641\n",
      "9     1530\n",
      "8     1361\n",
      "6     1354\n",
      "7     1314\n",
      "12    1189\n",
      "1     1127\n",
      "5      995\n",
      "Name: month_of_exposition, dtype: int64 \n",
      "\n"
     ]
    },
    {
     "data": {
      "image/png": "[encoded data removed]",
      "text/plain": [
       "<Figure size 1152x504 with 2 Axes>"
      ]
     },
     "metadata": {
      "needs_background": "light"
     },
     "output_type": "display_data"
    }
   ],
   "source": [
    "\n",
    "fig, axs = plt.subplots(1, 2)\n",
    "fig.set_figwidth(16)   \n",
    "fig.set_figheight(7)   \n",
    "\n",
    "axs[0].hist(data['type_of_day'], bins=6)\n",
    "axs[0].set_title('type_of_day')\n",
    "axs[0].set_ylabel('count')\n",
    "axs[0].set_xlabel('num of day')\n",
    "axs[0].grid()\n",
    "\n",
    "\n",
    "axs[1].hist(data['month_of_exposition'], bins=12)\n",
    "axs[1].set_title('month_of_exposition')\n",
    "axs[1].set_ylabel('count')\n",
    "axs[1].set_xlabel('month of exposition')\n",
    "axs[1].grid()\n",
    "\n",
    "for x in ['type_of_day','month_of_exposition']:\n",
    "    print(x)\n",
    "    print(data[x].value_counts().sort_values(ascending=False),'\\n')\n"
   ]
  },
  {
   "cell_type": "markdown",
   "metadata": {},
   "source": [
    "Обе переменные - качественные. Самый популярный день - четверг, самый популярный месяц-февраль."
   ]
  },
  {
   "cell_type": "markdown",
   "metadata": {},
   "source": [
    "<div style=\"border:solid Blue 4px; padding: 40px\">\n",
    "\n",
    "**Изучите, как быстро продавались квартиры**\n",
    "\n",
    "* Постройте гистограмму.\n",
    "* Посчитайте среднее и медиану.\n",
    "* В ячейке типа markdown опишите, сколько времени обычно занимает продажа. \n",
    "* Какие продажи можно считать быстрыми, а какие — необычно долгими?\n"
   ]
  },
  {
   "cell_type": "code",
   "execution_count": 15,
   "metadata": {
    "scrolled": false
   },
   "outputs": [
    {
     "name": "stdout",
     "output_type": "stream",
     "text": [
      "60.0    2.924087\n",
      "45.0    2.703044\n",
      "90.0    1.187318\n",
      "30.0    1.181003\n",
      "7.0     1.162056\n",
      "4.0     0.884173\n",
      "14.0    0.814703\n",
      "3.0     0.814703\n",
      "5.0     0.789440\n",
      "9.0     0.757863\n",
      "Name: days_exposition, dtype: float64\n",
      "median:  96.0\n",
      "count    15834.000000\n",
      "mean       182.593659\n",
      "std        223.360979\n",
      "min          1.000000\n",
      "25%         43.000000\n",
      "50%         96.000000\n",
      "75%        232.000000\n",
      "max       1572.000000\n",
      "Name: days_exposition, dtype: float64 \n",
      "\n",
      "median:  108.0\n",
      "count    14755.000000\n",
      "mean       191.611522\n",
      "std        228.751647\n",
      "min          1.000000\n",
      "25%         39.000000\n",
      "50%        108.000000\n",
      "75%        251.000000\n",
      "max       1572.000000\n",
      "Name: days_exposition, dtype: float64 \n",
      "\n",
      "Продажи дольше, чем  562 будем считать слишком долгими\n",
      "Продажи короче, чем  43 будем считать быстрыми\n"
     ]
    },
    {
     "data": {
      "image/png": "[encoded data removed]",
      "text/plain": [
       "<Figure size 1152x504 with 2 Axes>"
      ]
     },
     "metadata": {
      "needs_background": "light"
     },
     "output_type": "display_data"
    },
    {
     "data": {
      "image/png": "[encoded data removed]",
      "text/plain": [
       "<Figure size 1152x504 with 2 Axes>"
      ]
     },
     "metadata": {
      "needs_background": "light"
     },
     "output_type": "display_data"
    }
   ],
   "source": [
    "fig, axs = plt.subplots(1, 2)\n",
    "fig.set_figwidth(16)   \n",
    "fig.set_figheight(7) \n",
    "\n",
    "#____________________________________здесь исправила код______________________________\n",
    "data.hist('days_exposition',bins=150,ax=axs[0],range=(data['days_exposition'].min(), 150))\n",
    "data.boxplot('days_exposition',ax=axs[1])\n",
    "print(data['days_exposition'].sort_values().value_counts().head(10)/data['days_exposition'].count()*100)\n",
    "popular=data['days_exposition'].sort_values().value_counts().head(3).index\n",
    "#Необычно много объявлений было закрыто за 45,60 и 7 дней. Выглядит как технический сбой или работа ботов.\n",
    "#посмотрим на боксплот без учета данных в эти дни\n",
    "\n",
    "#построим новые графики\n",
    "new_data=data.query('days_exposition not in @popular')\n",
    "fig1, axs1 = plt.subplots(1, 2)\n",
    "fig1.set_figwidth(16)   \n",
    "fig1.set_figheight(7) \n",
    "new_data.hist('days_exposition',bins=150,ax=axs1[0],range=(new_data['days_exposition'].min(), 150))\n",
    "new_data.boxplot('days_exposition',ax=axs1[1])\n",
    "axs1[0].set_ylim(0,800)\n",
    "\n",
    "\n",
    "print('median: ',data['days_exposition'].median())\n",
    "print(data['days_exposition'].describe(),'\\n')\n",
    "too_long_old=int(232+(232-43)*1.5)\n",
    "#значения выше верхнего уса\n",
    "too_fast_old=45\n",
    "\n",
    "print('median: ',new_data['days_exposition'].median())\n",
    "print(new_data['days_exposition'].describe(),'\\n')\n",
    "too_long_new=int(252+(252-45)*1.5)\n",
    "too_fast_new=43\n",
    "\n",
    "print('Продажи дольше, чем ',too_long_new,'будем считать слишком долгими')\n",
    "#значения от нижнего уса до первого квартиля\n",
    "print('Продажи короче, чем ',too_fast_new,'будем считать быстрыми')"
   ]
  },
  {
   "cell_type": "markdown",
   "metadata": {},
   "source": [
    "В среднем продажа занимает 183 дня. Быстрыми продажами будем считать те, что были менее, чем за 43 дня, долгими - те, что были более, чем за 515 дней."
   ]
  },
  {
   "cell_type": "markdown",
   "metadata": {},
   "source": [
    "<div style=\"border:solid Blue 4px; padding: 40px\">\n",
    "\n",
    "**Изучить, зависит ли цена от:**\n",
    "\n",
    "* общей площади\n",
    "* жилой площади\n",
    "* площади кухни\n",
    "* количества комнат\n",
    "* этажа, на котором расположена квартира (первый, последний, другой)\n",
    "* даты размещения (день недели, месяц, год)\n"
   ]
  },
  {
   "cell_type": "code",
   "execution_count": 16,
   "metadata": {},
   "outputs": [
    {
     "name": "stdout",
     "output_type": "stream",
     "text": [
      "Корреляция цены и общей площади:  0.6498383834033873\n",
      "Корреляция цены и жилой площади:  0.5123870388896856\n",
      "Корреляция цены и площади кухни:  0.36952145013491283\n"
     ]
    },
    {
     "data": {
      "text/plain": [
       "Text(0.5, 0, 'square meters')"
      ]
     },
     "execution_count": 16,
     "metadata": {},
     "output_type": "execute_result"
    },
    {
     "data": {
      "image/png": "[encoded data removed]",
      "text/plain": [
       "<Figure size 1080x288 with 3 Axes>"
      ]
     },
     "metadata": {
      "needs_background": "light"
     },
     "output_type": "display_data"
    }
   ],
   "source": [
    "fig, axs = plt.subplots(1, 3)\n",
    "fig.set_figwidth(15)   \n",
    "fig.set_figheight(4)\n",
    "\n",
    "price_total_area_corr=data.pivot_table(index='total_area',values='last_price',aggfunc=['count','median'])\n",
    "price_total_area_corr.columns=['num','last_price']\n",
    "axs[0].scatter(price_total_area_corr.index, price_total_area_corr['last_price'],alpha=0.03,c='purple')\n",
    "print('Корреляция цены и общей площади: ',data['last_price'].corr(data['total_area']))\n",
    "#часть значений отбросила для более понятного отображения\n",
    "axs[0].set_ylim(0,2*10**8)\n",
    "axs[0].set_xlim(0,400)\n",
    "axs[0].set_title('total area-price')\n",
    "axs[0].set_ylabel('rubles')\n",
    "axs[0].set_xlabel('square meters')\n",
    "\n",
    "price_living_area_corr=data.pivot_table(index='living_area',values='last_price',aggfunc=['count','median'])\n",
    "price_living_area_corr.columns=['num','last_price']\n",
    "axs[1].scatter(price_living_area_corr.index, price_living_area_corr['last_price'],alpha=0.03,c='green')\n",
    "print('Корреляция цены и жилой площади: ',data['last_price'].corr(data['living_area']))\n",
    "#часть значений отбросила для более понятного отображения\n",
    "axs[1].set_ylim(0,2*10**8)\n",
    "axs[1].set_xlim(0,200)\n",
    "axs[1].set_title('living area-price')\n",
    "axs[1].set_ylabel('rubles')\n",
    "axs[1].set_xlabel('square meters')\n",
    "\n",
    "price_kitchen_area_corr=data.pivot_table(index='kitchen_area',values='last_price',aggfunc=['count','median'])\n",
    "price_kitchen_area_corr.columns=['num','last_price']\n",
    "axs[2].scatter(price_kitchen_area_corr.index, price_kitchen_area_corr['last_price'],alpha=0.03,c='red')\n",
    "print('Корреляция цены и площади кухни: ',data['last_price'].corr(data['kitchen_area']))\n",
    "#часть значений отбросила для более понятного отображения\n",
    "axs[2].set_ylim(0,2*10**8)\n",
    "axs[2].set_xlim(0,125)\n",
    "axs[2].set_title('kitchen area-price')\n",
    "axs[2].set_ylabel('rubles')\n",
    "axs[2].set_xlabel('square meters')\n",
    "\n",
    "#data.info()"
   ]
  },
  {
   "cell_type": "markdown",
   "metadata": {},
   "source": [
    "Есть положительная корреляция между ценой и общей, жилой площадью и площадью кухни (что логично, т.к. эти величины чаще всего сами являются взаимозависимыми). "
   ]
  },
  {
   "cell_type": "code",
   "execution_count": 17,
   "metadata": {},
   "outputs": [
    {
     "name": "stdout",
     "output_type": "stream",
     "text": [
      "Корреляция цены и количества комнат:  0.369299602762485\n"
     ]
    },
    {
     "data": {
      "text/plain": [
       "Text(0.5, 0, 'type of floor')"
      ]
     },
     "execution_count": 17,
     "metadata": {},
     "output_type": "execute_result"
    },
    {
     "data": {
      "image/png": "[encoded data removed]",
      "text/plain": [
       "<Figure size 720x288 with 2 Axes>"
      ]
     },
     "metadata": {
      "needs_background": "light"
     },
     "output_type": "display_data"
    }
   ],
   "source": [
    "fig, axs = plt.subplots(1, 2)\n",
    "fig.set_figwidth(10)   \n",
    "fig.set_figheight(4)\n",
    "\n",
    "#price_rooms_corr=data.pivot_table(index='rooms',values='last_price',aggfunc='median')\n",
    "price_rooms_corr=data.pivot_table(index='rooms',values='last_price',aggfunc='median')\n",
    "print('Корреляция цены и количества комнат: ',data['last_price'].corr(data['rooms']))\n",
    "axs[0].bar(price_rooms_corr.index,price_rooms_corr['last_price'],color=(0.1, 0.1, 0.1, 0.1),  edgecolor='blue')\n",
    "axs[0].set_title('count of rooms-price')\n",
    "axs[0].set_ylabel('rubles')\n",
    "axs[0].set_xlabel('count of rooms')\n",
    "\n",
    "\n",
    "price_type_of_floor_corr=data.pivot_table(index='type_of_floor',values='last_price',aggfunc='median')\n",
    "axs[1].bar(price_type_of_floor_corr.index,price_type_of_floor_corr['last_price'],color=(0.1, 0.1, 0.1, 0.1),  edgecolor='cyan')\n",
    "axs[1].set_title('type of floor-price')\n",
    "axs[1].set_ylabel('rubles')\n",
    "axs[1].set_xlabel('type of floor')\n",
    "\n",
    "\n"
   ]
  },
  {
   "cell_type": "markdown",
   "metadata": {},
   "source": [
    "\n",
    "С увеличением количества комнат цена также возрастает - самая высокая цена у квартир с 12-ю комнатами, самая низкая у квартир без комнат.\n",
    "\n",
    "\n",
    " \n",
    "\n",
    "На последних этажах квартиры в чаще стоят дороже, на первых в чаще дешевле. "
   ]
  },
  {
   "cell_type": "code",
   "execution_count": 18,
   "metadata": {
    "scrolled": false
   },
   "outputs": [
    {
     "name": "stdout",
     "output_type": "stream",
     "text": [
      "             count  last_price\n",
      "type_of_day                   \n",
      "3             3296     5327000\n",
      "2             3048     5300000\n",
      "1             3231     5299000\n",
      "0             2752     5250000\n",
      "4             3087     5200000\n",
      "5             1443     5200000\n",
      "6             1290     5150000 \n",
      "\n",
      "                     count  last_price\n",
      "month_of_exposition                   \n",
      "12                    1189   5590000.0\n",
      "1                     1127   5400000.0\n",
      "4                     1840   5311202.5\n",
      "3                     1933   5300000.0\n",
      "9                     1530   5300000.0\n",
      "8                     1361   5250000.0\n",
      "11                    1844   5200600.0\n",
      "2                     2019   5200000.0\n",
      "7                     1314   5200000.0\n",
      "5                      995   5150000.0\n",
      "10                    1641   5100000.0\n",
      "6                     1354   5000000.0 \n",
      "\n",
      "                    count  last_price\n",
      "year_of_exposition                   \n",
      "2014                  115     9278000\n",
      "2015                  977     5930908\n",
      "2019                 2203     5650000\n",
      "2018                 6247     5200000\n",
      "2016                 2186     5185000\n",
      "2017                 6419     5000000 \n",
      "\n",
      "18147\n"
     ]
    },
    {
     "data": {
      "image/png": "[encoded data removed]",
      "text/plain": [
       "<Figure size 1080x288 with 3 Axes>"
      ]
     },
     "metadata": {
      "needs_background": "light"
     },
     "output_type": "display_data"
    }
   ],
   "source": [
    "fig, axs = plt.subplots(1, 3)\n",
    "fig.set_figwidth(15)   \n",
    "fig.set_figheight(4)\n",
    "\n",
    "price_day_corr=data.pivot_table(index='type_of_day',values='last_price',aggfunc=['count','median'])\n",
    "price_day_corr.columns=['count','last_price']\n",
    "print(price_day_corr.sort_values(by='last_price',ascending=False),'\\n')\n",
    "axs[0].bar(price_day_corr.index,price_day_corr['last_price'],color=(0.1, 0.1, 0.1, 0.1),  edgecolor='blue')\n",
    "axs[0].set_title('day of week-price')\n",
    "axs[0].set_ylabel('rubles')\n",
    "axs[0].set_xlabel('day of week')\n",
    "axs[0].hlines(5*10**6, 0, 7)\n",
    "\n",
    "\n",
    "price_month_corr=data.pivot_table(index='month_of_exposition',values='last_price',aggfunc=['count','median'])\n",
    "price_month_corr.columns=['count','last_price']\n",
    "print(price_month_corr.sort_values(by='last_price',ascending=False),'\\n')\n",
    "axs[1].bar(price_month_corr.index,price_month_corr['last_price'],color=(0.1, 0.1, 0.1, 0.1),  edgecolor='cyan')\n",
    "axs[1].set_title('month of exposition-price')\n",
    "axs[1].set_ylabel('rubles')\n",
    "axs[1].set_xlabel('month')\n",
    "axs[1].hlines(5*10**6, -1, 13)\n",
    "\n",
    "price_year_corr=data.pivot_table(index='year_of_exposition',values='last_price',aggfunc=['count','median'])\n",
    "price_year_corr.columns=['count','last_price']\n",
    "print(price_year_corr.sort_values(by='last_price',ascending=False),'\\n')\n",
    "axs[2].bar(price_year_corr.index,price_year_corr['last_price'],color=(0.1, 0.1, 0.1, 0.1),  edgecolor='pink')\n",
    "axs[2].set_title('year of exposition-price')\n",
    "axs[2].set_ylabel('rubles')\n",
    "axs[2].set_xlabel('year')\n",
    "\n",
    "#общее количество объявлений\n",
    "print(data.shape[0])"
   ]
  },
  {
   "cell_type": "markdown",
   "metadata": {},
   "source": [
    "\n",
    "\n",
    "В зависимости от дня публикации самая высокая цена наблюдается у объявлений, опубликованных в четверг, а самая низкая у воскресных объявлений.\n",
    "\n",
    "В зависимости от месяца публикации самая высокая цена наблюдается у объявлений, опубликованных в декабре, а самая низкая у июньских объявлений.\n",
    "\n",
    "В зависимости от года-значительно дороже недвижимость была в 2014 году,однако количество объявлений в этот год всего 115, следовательно будем рассматривать выборку за исключением этого года. Самая высокая стоимость у объявлений в 2015 году, а самая низкая у объявлений в 2017г."
   ]
  },
  {
   "cell_type": "markdown",
   "metadata": {},
   "source": [
    "<div style=\"border:solid Blue 4px; padding: 40px\">\n",
    "\n",
    "* Посчитайте среднюю цену одного квадратного метра в 10 населённых пунктах с наибольшим числом объявлений.     \n",
    "* Выделите населённые пункты с самой высокой и низкой стоимостью квадратного метра. "
   ]
  },
  {
   "cell_type": "code",
   "execution_count": 19,
   "metadata": {},
   "outputs": [
    {
     "data": {
      "text/html": [
       "<div>\n",
       "<style scoped>\n",
       "    .dataframe tbody tr th:only-of-type {\n",
       "        vertical-align: middle;\n",
       "    }\n",
       "\n",
       "    .dataframe tbody tr th {\n",
       "        vertical-align: top;\n",
       "    }\n",
       "\n",
       "    .dataframe thead th {\n",
       "        text-align: right;\n",
       "    }\n",
       "</style>\n",
       "<table border=\"1\" class=\"dataframe\">\n",
       "  <thead>\n",
       "    <tr style=\"text-align: right;\">\n",
       "      <th></th>\n",
       "      <th>count_price</th>\n",
       "      <th>sum_price</th>\n",
       "      <th>sum_area</th>\n",
       "      <th>price_per_one_meter</th>\n",
       "    </tr>\n",
       "    <tr>\n",
       "      <th>locality_name</th>\n",
       "      <th></th>\n",
       "      <th></th>\n",
       "      <th></th>\n",
       "      <th></th>\n",
       "    </tr>\n",
       "  </thead>\n",
       "  <tbody>\n",
       "    <tr>\n",
       "      <th>Санкт-Петербург</th>\n",
       "      <td>15627</td>\n",
       "      <td>125278506062</td>\n",
       "      <td>1009317.41</td>\n",
       "      <td>124122.0</td>\n",
       "    </tr>\n",
       "    <tr>\n",
       "      <th>посёлок Шушары</th>\n",
       "      <td>436</td>\n",
       "      <td>1794455999</td>\n",
       "      <td>23546.36</td>\n",
       "      <td>76209.5</td>\n",
       "    </tr>\n",
       "    <tr>\n",
       "      <th>Пушкин</th>\n",
       "      <td>369</td>\n",
       "      <td>2387074264</td>\n",
       "      <td>22712.98</td>\n",
       "      <td>105097.4</td>\n",
       "    </tr>\n",
       "    <tr>\n",
       "      <th>Колпино</th>\n",
       "      <td>337</td>\n",
       "      <td>1336889246</td>\n",
       "      <td>17956.64</td>\n",
       "      <td>74451.0</td>\n",
       "    </tr>\n",
       "    <tr>\n",
       "      <th>посёлок Парголово</th>\n",
       "      <td>327</td>\n",
       "      <td>1467600459</td>\n",
       "      <td>16847.50</td>\n",
       "      <td>87110.9</td>\n",
       "    </tr>\n",
       "    <tr>\n",
       "      <th>Петергоф</th>\n",
       "      <td>201</td>\n",
       "      <td>889192000</td>\n",
       "      <td>10397.15</td>\n",
       "      <td>85522.7</td>\n",
       "    </tr>\n",
       "    <tr>\n",
       "      <th>Сестрорецк</th>\n",
       "      <td>183</td>\n",
       "      <td>1160535140</td>\n",
       "      <td>11596.16</td>\n",
       "      <td>100079.3</td>\n",
       "    </tr>\n",
       "    <tr>\n",
       "      <th>Красное Село</th>\n",
       "      <td>175</td>\n",
       "      <td>668796000</td>\n",
       "      <td>9638.60</td>\n",
       "      <td>69387.3</td>\n",
       "    </tr>\n",
       "    <tr>\n",
       "      <th>Ломоносов</th>\n",
       "      <td>132</td>\n",
       "      <td>483563000</td>\n",
       "      <td>6766.20</td>\n",
       "      <td>71467.4</td>\n",
       "    </tr>\n",
       "    <tr>\n",
       "      <th>Кронштадт</th>\n",
       "      <td>95</td>\n",
       "      <td>392916999</td>\n",
       "      <td>4991.40</td>\n",
       "      <td>78718.8</td>\n",
       "    </tr>\n",
       "  </tbody>\n",
       "</table>\n",
       "</div>"
      ],
      "text/plain": [
       "                   count_price     sum_price    sum_area  price_per_one_meter\n",
       "locality_name                                                                \n",
       "Санкт-Петербург          15627  125278506062  1009317.41             124122.0\n",
       "посёлок Шушары             436    1794455999    23546.36              76209.5\n",
       "Пушкин                     369    2387074264    22712.98             105097.4\n",
       "Колпино                    337    1336889246    17956.64              74451.0\n",
       "посёлок Парголово          327    1467600459    16847.50              87110.9\n",
       "Петергоф                   201     889192000    10397.15              85522.7\n",
       "Сестрорецк                 183    1160535140    11596.16             100079.3\n",
       "Красное Село               175     668796000     9638.60              69387.3\n",
       "Ломоносов                  132     483563000     6766.20              71467.4\n",
       "Кронштадт                   95     392916999     4991.40              78718.8"
      ]
     },
     "metadata": {},
     "output_type": "display_data"
    },
    {
     "name": "stdout",
     "output_type": "stream",
     "text": [
      "Index(['Санкт-Петербург'], dtype='object', name='locality_name')\n",
      "Index(['Красное Село'], dtype='object', name='locality_name')\n"
     ]
    }
   ],
   "source": [
    "grouped_by_locality_name=data.pivot_table(index='locality_name',values=['last_price','total_area'],aggfunc=['count','sum'])\n",
    "grouped_by_locality_name.columns=['count_price','count_area','sum_price','sum_area']\n",
    "grouped_by_locality_name=grouped_by_locality_name.loc[:,['count_price','sum_price','sum_area']]\n",
    "\n",
    "grouped_by_locality_name=grouped_by_locality_name.sort_values(by='count_price',ascending=False).head(10)\n",
    "grouped_by_locality_name['price_per_one_meter']=np.round(grouped_by_locality_name['sum_price']/grouped_by_locality_name['sum_area'],1)\n",
    "display(grouped_by_locality_name)\n",
    "\n",
    "print(grouped_by_locality_name.query('price_per_one_meter == price_per_one_meter.max()').index)\n",
    "print(grouped_by_locality_name.query('price_per_one_meter == price_per_one_meter.min()').index)"
   ]
  },
  {
   "cell_type": "markdown",
   "metadata": {},
   "source": [
    "<div style=\"border:solid Blue 4px; padding: 40px\">\n",
    "\n",
    "* Выделите квартиры в Санкт-Петербурге с помощью столбца locality_name и вычислите среднюю цену каждого километра. \n",
    "\n",
    "* Опишите, как стоимость объектов зависит от расстояния до центра города."
   ]
  },
  {
   "cell_type": "code",
   "execution_count": 20,
   "metadata": {},
   "outputs": [
    {
     "data": {
      "text/plain": [
       "[]"
      ]
     },
     "execution_count": 20,
     "metadata": {},
     "output_type": "execute_result"
    },
    {
     "data": {
      "image/png": "[encoded data removed]",
      "text/plain": [
       "<Figure size 1080x288 with 1 Axes>"
      ]
     },
     "metadata": {
      "needs_background": "light"
     },
     "output_type": "display_data"
    }
   ],
   "source": [
    "fig, axs = plt.subplots()\n",
    "fig.set_figwidth(15)   \n",
    "fig.set_figheight(4)\n",
    "\n",
    "spb_data=data.query('locality_name==\"Санкт-Петербург\"')\n",
    "price_per_city_center_distance=spb_data.pivot_table(index='city_center_km',values='last_price',aggfunc='median')\n",
    "price_per_city_center_distance.columns=['price']\n",
    "price_per_city_center_distance=price_per_city_center_distance.sort_values(by='price')\n",
    "#print(price_per_city_center_distance)\n",
    "\n",
    "axs.bar(price_per_city_center_distance.index,price_per_city_center_distance['price'],color=(0.5, 0.5, 0.5, 0.5))\n",
    "axs.hlines(price_per_city_center_distance['price'].median(), -1, 30)\n",
    "plt.plot(title = 'Заголовок')"
   ]
  },
  {
   "cell_type": "markdown",
   "metadata": {},
   "source": [
    "В центре города располагаются самые дорогие объекты недвижимости, при удалении от центра наблюдается снижение цены, однако на 27км от центра наблюдается увеличение цены до 5-6км зоны удаленности от центра."
   ]
  },
  {
   "cell_type": "markdown",
   "metadata": {},
   "source": [
    "### Общий вывод"
   ]
  },
  {
   "cell_type": "markdown",
   "metadata": {},
   "source": [
    "На стоимость недвижимости влияет множество различных факторов. Например, регион расположения недвижимости - в данной выборке в Санкт-Петербурге самая высокая цена за квадратный метр. Чем более удалена от центра недвижимость, тем ниже стоимость за квадратный метр.\n",
    "На первых этажах квартира будет стоить ниже, а на последних скорее выше, чем на прочих. Стоимость квартиры увеличивается с увеличением общего количества комнат, общей, жилой площади и площади кухни. Двенадцатикомнатные квартиры - самые дорогие, а студии самые дешевые.Наиболее высокая цена наблюдается у объявлений, опубликованных в декабре, а наиболее низкая у объявлений, опубликованных в июне.Среднее время продажи недвижимости - В среднем продажа занимает 183 дня.\n"
   ]
  },
  {
   "cell_type": "markdown",
   "metadata": {},
   "source": [
    "<div style=\"border:solid Blue 4px; padding: 40px\">\n",
    "Задачей исследования было определение зависимости рыночной стоимости недвижимости от различных параметров. \n",
    "\n",
    "В ходе исследования были изучены предоставленные данные, произведена их предобработка (произведена проверка на пропуски и дубликаты в данных, найдены и устранены аномалии), для каждого параметра датафрейма были построены визуализации, показывающие распределение данных, а также выведены основные параметры (минимальные, максимальные значения и медиана). Затем было рассмотрено влияние отдельно взятых параметров на стоимость объекта недвижимости. По итогу рассмотрения получены и визуализированы следующие выводы этой взаимосвязи:\n",
    "\n",
    "* **общая площадь**: чем выше общая площадь объекта, тем выше цена на него\n",
    "* **жилая площадь**: чем выше жилая площадь объекта, тем выше цена на него\n",
    "* **площадь кухни**: чем выше площадь кухни объекта, тем выше цена на него. При этом из этих трех параметров сильнее всего цена зависит от общей площади, а меньше всего от площади кухни.\n",
    "\n",
    "* **количество комнат**: чем больше комнат, тем выше цена на объект. не смотря на это самые дорогие объекты недвижимости - двенадцатикомнатные, а самые дешевые - студии.\n",
    "* **тип этажа**: стоимость объекта ниже, если он расположен на первом этаже.\n",
    "* **день недели публикации**: стоимость объявлений, опубликованных в четверг в среднем выше, а у воскресных в среднем ниже.\n",
    "* **месяц публикации**: наибольшая стоимость наблюдается у объявлений, опубликованных в декабре, а наименьшая - в июне.\n",
    "* **год публикации**: наибольшая стоимость недвижимости была в 2015,затем последовал спад стоимостей. Рынок начал расти только начиная с 2018г.\n",
    "\n",
    "Помимо прочего стоимость объекта зависит от его местоположения. Самые высокие цены на недвижимость в данной выборке - в Санкт-Петербугре. Он был рассмотрен отдельно  для выявления взаимосвязи стоимости объекта и его удаленности от центра города. Наибольшую стоимость имеют объекты, расположенные в центре города, а также в пределах 6км от него, а также объекты на удалении 27км от центра.\n",
    "\n",
    "\n",
    "____________________\n",
    "Рекомендации: При получении данных от пользователей или картографически  следует проверять, что все поля заполнены корректно. Практически повсеместно не заполнено поле is_apartment - стоит проверить, верно ли работает способ получения этого параметра. Возможно, что для количества балконов имеет смысл добавить опцию \"отсутствуют\" - таким образом можно сократить пропуски в данных и не потерять ценную информацию об объектах. Помимо прочего, некоторые картографические данные были пропущены, в связи с чем стоит проверить, не происходят ли какие-либо технические сбои или ошибки переноса данных.\n",
    "    \n",
    "При формировании рыночной стоимости объекта стоит ориентироваться на такие параметры как общая,жилая площадь и площадь кухни, количество комнат, регион расположения объекта, его удаленность от центра (для больших городов), а также этажа расположения объекта.\n"
   ]
  },
  {
   "cell_type": "code",
   "execution_count": null,
   "metadata": {},
   "outputs": [],
   "source": []
  }
 ],
 "metadata": {
  "ExecuteTimeLog": [
   {
    "duration": 836,
    "start_time": "2022-09-04T17:56:56.692Z"
   },
   {
    "duration": 0,
    "start_time": "2022-09-04T17:56:57.530Z"
   },
   {
    "duration": 0,
    "start_time": "2022-09-04T17:56:57.531Z"
   },
   {
    "duration": 0,
    "start_time": "2022-09-04T17:56:57.533Z"
   },
   {
    "duration": 0,
    "start_time": "2022-09-04T17:56:57.533Z"
   },
   {
    "duration": 0,
    "start_time": "2022-09-04T17:56:57.535Z"
   },
   {
    "duration": 0,
    "start_time": "2022-09-04T17:56:57.536Z"
   },
   {
    "duration": 0,
    "start_time": "2022-09-04T17:56:57.537Z"
   },
   {
    "duration": 0,
    "start_time": "2022-09-04T17:56:57.538Z"
   },
   {
    "duration": 0,
    "start_time": "2022-09-04T17:56:57.539Z"
   },
   {
    "duration": 0,
    "start_time": "2022-09-04T17:56:57.540Z"
   },
   {
    "duration": 0,
    "start_time": "2022-09-04T17:56:57.541Z"
   },
   {
    "duration": 0,
    "start_time": "2022-09-04T17:56:57.542Z"
   },
   {
    "duration": 0,
    "start_time": "2022-09-04T17:56:57.543Z"
   },
   {
    "duration": 0,
    "start_time": "2022-09-04T17:56:57.544Z"
   },
   {
    "duration": 0,
    "start_time": "2022-09-04T17:56:57.545Z"
   },
   {
    "duration": 0,
    "start_time": "2022-09-04T17:56:57.547Z"
   },
   {
    "duration": 0,
    "start_time": "2022-09-04T17:56:57.547Z"
   },
   {
    "duration": 2242,
    "start_time": "2022-09-04T17:58:35.011Z"
   },
   {
    "duration": 2862,
    "start_time": "2022-09-04T17:59:37.865Z"
   },
   {
    "duration": 9,
    "start_time": "2022-09-04T17:59:40.729Z"
   },
   {
    "duration": 335,
    "start_time": "2022-09-04T17:59:40.742Z"
   },
   {
    "duration": 24,
    "start_time": "2022-09-04T17:59:41.079Z"
   },
   {
    "duration": 355,
    "start_time": "2022-09-04T17:59:41.104Z"
   },
   {
    "duration": 54,
    "start_time": "2022-09-04T17:59:41.461Z"
   },
   {
    "duration": 312,
    "start_time": "2022-09-04T17:59:41.517Z"
   },
   {
    "duration": 633,
    "start_time": "2022-09-04T17:59:41.831Z"
   },
   {
    "duration": 767,
    "start_time": "2022-09-04T17:59:42.467Z"
   },
   {
    "duration": 567,
    "start_time": "2022-09-04T17:59:43.235Z"
   },
   {
    "duration": 629,
    "start_time": "2022-09-04T17:59:43.804Z"
   },
   {
    "duration": 424,
    "start_time": "2022-09-04T17:59:44.435Z"
   },
   {
    "duration": 358,
    "start_time": "2022-09-04T17:59:44.861Z"
   },
   {
    "duration": 444,
    "start_time": "2022-09-04T17:59:45.220Z"
   },
   {
    "duration": 288,
    "start_time": "2022-09-04T17:59:45.665Z"
   },
   {
    "duration": 433,
    "start_time": "2022-09-04T17:59:45.955Z"
   },
   {
    "duration": 33,
    "start_time": "2022-09-04T17:59:46.391Z"
   },
   {
    "duration": 209,
    "start_time": "2022-09-04T17:59:46.426Z"
   },
   {
    "duration": 184,
    "start_time": "2022-09-04T18:10:53.659Z"
   },
   {
    "duration": 69,
    "start_time": "2022-09-05T06:54:38.032Z"
   },
   {
    "duration": 47,
    "start_time": "2022-09-05T07:00:32.487Z"
   },
   {
    "duration": 2925,
    "start_time": "2022-09-05T07:00:42.466Z"
   },
   {
    "duration": 10,
    "start_time": "2022-09-05T07:00:49.469Z"
   },
   {
    "duration": 311,
    "start_time": "2022-09-05T07:00:50.076Z"
   },
   {
    "duration": 27,
    "start_time": "2022-09-05T07:00:53.782Z"
   },
   {
    "duration": 62,
    "start_time": "2022-09-05T07:04:05.126Z"
   },
   {
    "duration": 41,
    "start_time": "2022-09-05T07:16:11.943Z"
   },
   {
    "duration": 361,
    "start_time": "2022-09-05T07:16:20.785Z"
   },
   {
    "duration": 11,
    "start_time": "2022-09-05T07:16:22.220Z"
   },
   {
    "duration": 13,
    "start_time": "2022-09-05T07:16:23.262Z"
   },
   {
    "duration": 370,
    "start_time": "2022-09-05T07:16:26.811Z"
   },
   {
    "duration": 59,
    "start_time": "2022-09-05T07:16:27.474Z"
   },
   {
    "duration": 305,
    "start_time": "2022-09-05T07:16:29.519Z"
   },
   {
    "duration": 664,
    "start_time": "2022-09-05T07:16:31.712Z"
   },
   {
    "duration": 651,
    "start_time": "2022-09-05T07:16:33.335Z"
   },
   {
    "duration": 565,
    "start_time": "2022-09-05T07:16:34.296Z"
   },
   {
    "duration": 794,
    "start_time": "2022-09-05T07:16:35.630Z"
   },
   {
    "duration": 380,
    "start_time": "2022-09-05T07:16:37.142Z"
   },
   {
    "duration": 2479,
    "start_time": "2022-09-05T07:16:39.101Z"
   },
   {
    "duration": 2498,
    "start_time": "2022-09-05T07:17:23.624Z"
   },
   {
    "duration": 103,
    "start_time": "2022-09-05T07:30:56.651Z"
   },
   {
    "duration": 2574,
    "start_time": "2022-09-05T07:32:45.101Z"
   },
   {
    "duration": 2518,
    "start_time": "2022-09-05T07:32:59.511Z"
   },
   {
    "duration": 2474,
    "start_time": "2022-09-05T07:33:06.428Z"
   },
   {
    "duration": 389,
    "start_time": "2022-09-05T07:39:07.763Z"
   },
   {
    "duration": 509,
    "start_time": "2022-09-05T07:39:59.530Z"
   },
   {
    "duration": 386,
    "start_time": "2022-09-05T07:40:19.313Z"
   },
   {
    "duration": 546,
    "start_time": "2022-09-05T07:40:37.338Z"
   },
   {
    "duration": 469,
    "start_time": "2022-09-05T07:40:48.096Z"
   },
   {
    "duration": 529,
    "start_time": "2022-09-05T07:41:01.214Z"
   },
   {
    "duration": 1026,
    "start_time": "2022-09-05T07:42:27.446Z"
   },
   {
    "duration": 658,
    "start_time": "2022-09-05T07:42:53.432Z"
   },
   {
    "duration": 414,
    "start_time": "2022-09-05T07:43:01.583Z"
   },
   {
    "duration": 402,
    "start_time": "2022-09-05T07:43:12.165Z"
   },
   {
    "duration": 380,
    "start_time": "2022-09-05T07:43:16.531Z"
   },
   {
    "duration": 437,
    "start_time": "2022-09-05T07:43:31.059Z"
   },
   {
    "duration": 538,
    "start_time": "2022-09-05T07:43:42.933Z"
   },
   {
    "duration": 387,
    "start_time": "2022-09-05T07:43:50.078Z"
   },
   {
    "duration": 496,
    "start_time": "2022-09-05T07:44:30.874Z"
   },
   {
    "duration": 579,
    "start_time": "2022-09-05T07:46:07.186Z"
   },
   {
    "duration": 490,
    "start_time": "2022-09-05T07:46:16.482Z"
   },
   {
    "duration": 495,
    "start_time": "2022-09-05T07:46:54.860Z"
   },
   {
    "duration": 480,
    "start_time": "2022-09-05T07:47:12.175Z"
   },
   {
    "duration": 698,
    "start_time": "2022-09-05T08:03:46.950Z"
   },
   {
    "duration": 453,
    "start_time": "2022-09-05T08:03:58.374Z"
   },
   {
    "duration": 464,
    "start_time": "2022-09-05T08:04:54.241Z"
   },
   {
    "duration": 960,
    "start_time": "2022-09-05T08:06:31.611Z"
   },
   {
    "duration": 986,
    "start_time": "2022-09-05T08:07:01.051Z"
   },
   {
    "duration": 1180,
    "start_time": "2022-09-05T08:08:21.139Z"
   },
   {
    "duration": 969,
    "start_time": "2022-09-05T08:09:16.471Z"
   },
   {
    "duration": 1412,
    "start_time": "2022-09-05T08:19:51.697Z"
   },
   {
    "duration": 1333,
    "start_time": "2022-09-05T08:20:21.168Z"
   },
   {
    "duration": 27,
    "start_time": "2022-09-05T08:23:40.249Z"
   },
   {
    "duration": 42,
    "start_time": "2022-09-05T08:24:08.642Z"
   },
   {
    "duration": 25,
    "start_time": "2022-09-05T08:24:26.329Z"
   },
   {
    "duration": 885,
    "start_time": "2022-09-05T08:27:59.440Z"
   },
   {
    "duration": 568,
    "start_time": "2022-09-05T08:28:38.663Z"
   },
   {
    "duration": 2758,
    "start_time": "2022-09-05T08:30:02.227Z"
   },
   {
    "duration": 3236,
    "start_time": "2022-09-05T08:30:25.796Z"
   },
   {
    "duration": 2818,
    "start_time": "2022-09-05T08:31:36.486Z"
   },
   {
    "duration": 3044,
    "start_time": "2022-09-05T08:32:01.757Z"
   },
   {
    "duration": 2873,
    "start_time": "2022-09-05T08:32:18.449Z"
   },
   {
    "duration": 798,
    "start_time": "2022-09-05T08:32:40.462Z"
   },
   {
    "duration": 915,
    "start_time": "2022-09-05T08:33:04.783Z"
   },
   {
    "duration": 467,
    "start_time": "2022-09-05T08:35:22.520Z"
   },
   {
    "duration": 501,
    "start_time": "2022-09-05T08:35:31.361Z"
   },
   {
    "duration": 546,
    "start_time": "2022-09-05T08:37:06.863Z"
   },
   {
    "duration": 487,
    "start_time": "2022-09-05T08:37:44.010Z"
   },
   {
    "duration": 796,
    "start_time": "2022-09-05T08:38:02.963Z"
   },
   {
    "duration": 477,
    "start_time": "2022-09-05T08:40:33.336Z"
   },
   {
    "duration": 462,
    "start_time": "2022-09-05T08:45:44.852Z"
   },
   {
    "duration": 957,
    "start_time": "2022-09-05T08:47:05.148Z"
   },
   {
    "duration": 1305,
    "start_time": "2022-09-05T08:47:19.945Z"
   },
   {
    "duration": 898,
    "start_time": "2022-09-05T08:47:52.308Z"
   },
   {
    "duration": 1270,
    "start_time": "2022-09-05T08:48:01.503Z"
   },
   {
    "duration": 914,
    "start_time": "2022-09-05T08:48:12.045Z"
   },
   {
    "duration": 988,
    "start_time": "2022-09-05T08:48:27.229Z"
   },
   {
    "duration": 1825,
    "start_time": "2022-09-05T08:49:47.406Z"
   },
   {
    "duration": 1488,
    "start_time": "2022-09-05T08:49:56.397Z"
   },
   {
    "duration": 990,
    "start_time": "2022-09-05T08:50:05.269Z"
   },
   {
    "duration": 1188,
    "start_time": "2022-09-05T08:50:18.033Z"
   },
   {
    "duration": 1022,
    "start_time": "2022-09-05T08:51:19.470Z"
   },
   {
    "duration": 965,
    "start_time": "2022-09-05T08:52:42.556Z"
   },
   {
    "duration": 1772,
    "start_time": "2022-09-05T08:52:56.232Z"
   },
   {
    "duration": 1025,
    "start_time": "2022-09-05T08:53:05.852Z"
   },
   {
    "duration": 563,
    "start_time": "2022-09-05T08:53:46.090Z"
   },
   {
    "duration": 84,
    "start_time": "2022-09-05T08:53:53.545Z"
   },
   {
    "duration": 1518,
    "start_time": "2022-09-05T08:53:56.637Z"
   },
   {
    "duration": 866,
    "start_time": "2022-09-05T08:54:13.733Z"
   },
   {
    "duration": 812,
    "start_time": "2022-09-05T08:54:30.780Z"
   },
   {
    "duration": 772,
    "start_time": "2022-09-05T08:54:50.596Z"
   },
   {
    "duration": 1122,
    "start_time": "2022-09-05T08:55:04.636Z"
   },
   {
    "duration": 1347,
    "start_time": "2022-09-05T08:55:57.601Z"
   },
   {
    "duration": 743,
    "start_time": "2022-09-05T08:56:04.655Z"
   },
   {
    "duration": 740,
    "start_time": "2022-09-05T08:56:39.309Z"
   },
   {
    "duration": 1326,
    "start_time": "2022-09-05T08:56:46.385Z"
   },
   {
    "duration": 94,
    "start_time": "2022-09-05T08:58:03.089Z"
   },
   {
    "duration": 7,
    "start_time": "2022-09-05T08:58:56.095Z"
   },
   {
    "duration": 978,
    "start_time": "2022-09-05T08:59:02.929Z"
   },
   {
    "duration": 1080,
    "start_time": "2022-09-05T08:59:37.252Z"
   },
   {
    "duration": 1253,
    "start_time": "2022-09-05T09:00:29.226Z"
   },
   {
    "duration": 924,
    "start_time": "2022-09-05T09:08:40.599Z"
   },
   {
    "duration": 1258,
    "start_time": "2022-09-05T09:11:38.572Z"
   },
   {
    "duration": 733,
    "start_time": "2022-09-05T10:11:21.512Z"
   },
   {
    "duration": 734,
    "start_time": "2022-09-05T10:13:38.599Z"
   },
   {
    "duration": 1170,
    "start_time": "2022-09-05T10:13:39.335Z"
   },
   {
    "duration": 703,
    "start_time": "2022-09-05T10:13:53.588Z"
   },
   {
    "duration": 776,
    "start_time": "2022-09-05T10:14:12.287Z"
   },
   {
    "duration": 712,
    "start_time": "2022-09-05T10:14:48.066Z"
   },
   {
    "duration": 1171,
    "start_time": "2022-09-05T10:15:15.538Z"
   },
   {
    "duration": 945,
    "start_time": "2022-09-05T10:16:46.878Z"
   },
   {
    "duration": 51,
    "start_time": "2022-09-05T10:17:51.031Z"
   },
   {
    "duration": 953,
    "start_time": "2022-09-05T12:43:29.531Z"
   },
   {
    "duration": 0,
    "start_time": "2022-09-05T12:43:30.486Z"
   },
   {
    "duration": 0,
    "start_time": "2022-09-05T12:43:30.487Z"
   },
   {
    "duration": 0,
    "start_time": "2022-09-05T12:43:30.489Z"
   },
   {
    "duration": 0,
    "start_time": "2022-09-05T12:43:30.490Z"
   },
   {
    "duration": 0,
    "start_time": "2022-09-05T12:43:30.491Z"
   },
   {
    "duration": 0,
    "start_time": "2022-09-05T12:43:30.492Z"
   },
   {
    "duration": 0,
    "start_time": "2022-09-05T12:43:30.493Z"
   },
   {
    "duration": 0,
    "start_time": "2022-09-05T12:43:30.493Z"
   },
   {
    "duration": 0,
    "start_time": "2022-09-05T12:43:30.494Z"
   },
   {
    "duration": 0,
    "start_time": "2022-09-05T12:43:30.495Z"
   },
   {
    "duration": 0,
    "start_time": "2022-09-05T12:43:30.496Z"
   },
   {
    "duration": 0,
    "start_time": "2022-09-05T12:43:30.497Z"
   },
   {
    "duration": 0,
    "start_time": "2022-09-05T12:43:30.498Z"
   },
   {
    "duration": 0,
    "start_time": "2022-09-05T12:43:30.499Z"
   },
   {
    "duration": 0,
    "start_time": "2022-09-05T12:43:30.500Z"
   },
   {
    "duration": 0,
    "start_time": "2022-09-05T12:43:30.501Z"
   },
   {
    "duration": 0,
    "start_time": "2022-09-05T12:43:30.502Z"
   },
   {
    "duration": 0,
    "start_time": "2022-09-05T12:43:30.503Z"
   },
   {
    "duration": 0,
    "start_time": "2022-09-05T12:43:30.504Z"
   },
   {
    "duration": 1976,
    "start_time": "2022-09-05T12:44:47.609Z"
   },
   {
    "duration": 2520,
    "start_time": "2022-09-05T12:44:51.801Z"
   },
   {
    "duration": 0,
    "start_time": "2022-09-05T12:44:54.323Z"
   },
   {
    "duration": 0,
    "start_time": "2022-09-05T12:44:54.324Z"
   },
   {
    "duration": 0,
    "start_time": "2022-09-05T12:44:54.325Z"
   },
   {
    "duration": 0,
    "start_time": "2022-09-05T12:44:54.326Z"
   },
   {
    "duration": 0,
    "start_time": "2022-09-05T12:44:54.328Z"
   },
   {
    "duration": 0,
    "start_time": "2022-09-05T12:44:54.329Z"
   },
   {
    "duration": 0,
    "start_time": "2022-09-05T12:44:54.330Z"
   },
   {
    "duration": 0,
    "start_time": "2022-09-05T12:44:54.331Z"
   },
   {
    "duration": 0,
    "start_time": "2022-09-05T12:44:54.333Z"
   },
   {
    "duration": 0,
    "start_time": "2022-09-05T12:44:54.334Z"
   },
   {
    "duration": 0,
    "start_time": "2022-09-05T12:44:54.335Z"
   },
   {
    "duration": 0,
    "start_time": "2022-09-05T12:44:54.336Z"
   },
   {
    "duration": 0,
    "start_time": "2022-09-05T12:44:54.337Z"
   },
   {
    "duration": 0,
    "start_time": "2022-09-05T12:44:54.338Z"
   },
   {
    "duration": 0,
    "start_time": "2022-09-05T12:44:54.339Z"
   },
   {
    "duration": 0,
    "start_time": "2022-09-05T12:44:54.340Z"
   },
   {
    "duration": 0,
    "start_time": "2022-09-05T12:44:54.341Z"
   },
   {
    "duration": 0,
    "start_time": "2022-09-05T12:44:54.342Z"
   },
   {
    "duration": 0,
    "start_time": "2022-09-05T12:44:54.344Z"
   },
   {
    "duration": 1881,
    "start_time": "2022-09-05T12:47:28.497Z"
   },
   {
    "duration": 2380,
    "start_time": "2022-09-05T12:47:32.745Z"
   },
   {
    "duration": 8,
    "start_time": "2022-09-05T12:47:35.127Z"
   },
   {
    "duration": 264,
    "start_time": "2022-09-05T12:47:35.136Z"
   },
   {
    "duration": 25,
    "start_time": "2022-09-05T12:47:35.402Z"
   },
   {
    "duration": 304,
    "start_time": "2022-09-05T12:47:35.429Z"
   },
   {
    "duration": 41,
    "start_time": "2022-09-05T12:47:35.734Z"
   },
   {
    "duration": 1098,
    "start_time": "2022-09-05T12:47:35.776Z"
   },
   {
    "duration": 16,
    "start_time": "2022-09-05T12:47:36.875Z"
   },
   {
    "duration": 360,
    "start_time": "2022-09-05T12:47:36.892Z"
   },
   {
    "duration": 713,
    "start_time": "2022-09-05T12:47:37.256Z"
   },
   {
    "duration": 543,
    "start_time": "2022-09-05T12:47:37.971Z"
   },
   {
    "duration": 542,
    "start_time": "2022-09-05T12:47:38.515Z"
   },
   {
    "duration": 648,
    "start_time": "2022-09-05T12:47:39.059Z"
   },
   {
    "duration": 248,
    "start_time": "2022-09-05T12:47:39.709Z"
   },
   {
    "duration": 914,
    "start_time": "2022-09-05T12:47:39.958Z"
   },
   {
    "duration": 372,
    "start_time": "2022-09-05T12:47:40.874Z"
   },
   {
    "duration": 240,
    "start_time": "2022-09-05T12:47:41.248Z"
   },
   {
    "duration": 324,
    "start_time": "2022-09-05T12:47:41.489Z"
   },
   {
    "duration": 30,
    "start_time": "2022-09-05T12:47:41.814Z"
   },
   {
    "duration": 167,
    "start_time": "2022-09-05T12:47:41.845Z"
   }
  ],
  "kernelspec": {
   "display_name": "Python 3 (ipykernel)",
   "language": "python",
   "name": "python3"
  },
  "language_info": {
   "codemirror_mode": {
    "name": "ipython",
    "version": 3
   },
   "file_extension": ".py",
   "mimetype": "text/x-python",
   "name": "python",
   "nbconvert_exporter": "python",
   "pygments_lexer": "ipython3",
   "version": "3.9.7"
  },
  "toc": {
   "base_numbering": 1,
   "nav_menu": {},
   "number_sections": true,
   "sideBar": true,
   "skip_h1_title": true,
   "title_cell": "Table of Contents",
   "title_sidebar": "Contents",
   "toc_cell": false,
   "toc_position": {},
   "toc_section_display": true,
   "toc_window_display": true
  }
 },
 "nbformat": 4,
 "nbformat_minor": 2
}
